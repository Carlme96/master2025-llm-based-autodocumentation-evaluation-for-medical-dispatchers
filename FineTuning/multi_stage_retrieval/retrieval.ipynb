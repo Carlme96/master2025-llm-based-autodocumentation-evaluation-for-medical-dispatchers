{
 "cells": [
  {
   "cell_type": "markdown",
   "id": "9eebf97b",
   "metadata": {},
   "source": [
    "#### Import libraries and load environment"
   ]
  },
  {
   "cell_type": "code",
   "execution_count": 1,
   "id": "23803521",
   "metadata": {},
   "outputs": [
    {
     "name": "stdout",
     "output_type": "stream",
     "text": [
      "Loaded environment variables\n"
     ]
    }
   ],
   "source": [
    "import os\n",
    "import re\n",
    "import json\n",
    "from dotenv import load_dotenv\n",
    "from langchain.prompts import PromptTemplate\n",
    "from typing import Optional\n",
    "from langchain.chat_models import init_chat_model\n",
    "from pydantic_settings import BaseSettings, SettingsConfigDict\n",
    "from langchain_core.output_parsers import StrOutputParser, JsonOutputParser\n",
    "from langchain_community.vectorstores import FAISS\n",
    "from langchain.embeddings import init_embeddings\n",
    "\n",
    "\n",
    "def load_env():\n",
    "\tenv_file_path = \".env\"\n",
    "\tif os.path.exists(env_file_path):\n",
    "\t\tload_dotenv(env_file_path, override=True)\n",
    "\t\tprint(\"Loaded environment variables\")\n",
    "\telse:\n",
    "\t\tprint(f\"Error: .env file not found at {env_file_path}\")\n",
    "\n",
    "load_env()\n",
    "\n",
    "class ModelSettings(BaseSettings):\n",
    "\tmodel: str\n",
    "\ttemperature: Optional[float] = 0\n",
    "\tmax_tokens: Optional[int] = None\n",
    "\n",
    "class ProcessModelSettings(BaseSettings):\n",
    "\tgpt41: ModelSettings\n",
    "\tgpt4o_mini: ModelSettings\n",
    "\tgpt41_mini: ModelSettings\n",
    "\to1_mini: ModelSettings\n",
    "\tgpt41_nano: ModelSettings\n",
    "\tdeepseek: ModelSettings\n",
    "\tphi4: ModelSettings\n",
    "\tembedding: ModelSettings\n",
    "\n",
    "\n",
    "class Settings(BaseSettings):\n",
    "\tmodel_config = SettingsConfigDict(env_file=\".env\", env_nested_delimiter=\"__\")\n",
    "\n",
    "\t# Keys\n",
    "\tazure_openai_api_key: Optional[str]\n",
    "\tazure_openai_endpoint: Optional[str]\n",
    "\topenai_api_version: Optional[str]\n",
    "\n",
    "\topenai_api_deployment_name_gpt4_vision_no_filters: Optional[str]\n",
    "\topenai_vision_api_version_gpt4_vision_no_filters: Optional[str]\n",
    "\topenai_api_key_gpt4_vision_no_filters: Optional[str]\n",
    "\topenai_base_url_gpt4_vision_no_filters: Optional[str]\n",
    "\n",
    "\t# models\n",
    "\tprocessmodel: ProcessModelSettings\n",
    "\n",
    "\n",
    "settings = Settings()"
   ]
  },
  {
   "cell_type": "markdown",
   "id": "4b4c1da8",
   "metadata": {},
   "source": [
    "#### Load rag vectorstore"
   ]
  },
  {
   "cell_type": "code",
   "execution_count": 4,
   "id": "d7d1ba88",
   "metadata": {},
   "outputs": [],
   "source": [
    "embed_model = init_embeddings(\"ollama:nomic-embed-text:latest\")\n",
    "criteria_vectorstore = FAISS.load_local(folder_path=\"Data/VectorStores/Criteria_FAISS\", embeddings=embed_model, allow_dangerous_deserialization=True)\n",
    "\n",
    "def get_criteria_vectorstore(query, top_k=5):\n",
    "\tprefix = \"search_query: \"\n",
    "\tcriteria_results = criteria_vectorstore.similarity_search(prefix + query, k=top_k)\n",
    "\tresponse = []\n",
    "\tfor res in criteria_results:\n",
    "\t\tchap = res.metadata.get(\"chapter\")\n",
    "\t\tresponse.append({\"content\": res.page_content, \"chapter\": chap})\n",
    "\treturn response"
   ]
  },
  {
   "cell_type": "markdown",
   "id": "732c3654",
   "metadata": {},
   "source": [
    "#### Define prompt-template and llm call"
   ]
  },
  {
   "cell_type": "code",
   "execution_count": 5,
   "id": "2d1ad00c",
   "metadata": {},
   "outputs": [],
   "source": [
    "semantic_prompt_template = PromptTemplate(\n",
    "\ttemplate=\"\"\"\n",
    "You are an assistant for a medical triage system. Identify the 5 most relevant medical chapters based on the user query and chapter summaries. Each chapter has a numeric ID and a summary.\n",
    "\n",
    "## Chapter Summaries:\n",
    "{chapter_summaries}\n",
    "\n",
    "## User Query:\n",
    "{query}\n",
    "\n",
    "# Instructions:\n",
    "- Only select from the provided chapters.\n",
    "- Do not hallucinate or invent any chapter names.\n",
    "- Return exactly 5 chapter IDs in descending order of relevance.\n",
    "- For chain of thought (cot), provide a bullet-point explanation for each selected candidate chapter, describing the reasoning behind its relevance to the query based on the provided summaries. Start each explanation with a dash (-) and place each on a new line.\n",
    "\n",
    "# Important (enforce these rules):\n",
    "- Prioritize **observations** and **cause** when evaluating a chapter's relevance.\n",
    "- If the **cause** is marked as \"unknown\", rely on the **observations**.\n",
    "- Only consider **condition** if it provides additional context beyond the patient's consciousness or breathing status.\n",
    "\n",
    "# Output Format (example):\n",
    "\n",
    "```json\n",
    "{{\n",
    "  \"retrieved\": [\"05\",\"38\",\"01\",\"10\",\"07\"]\n",
    "  \"cot\": \"Explaining the reasoning for the selection of these chapters based on the query and summaries provided for each selected candidate.\"\n",
    "}}\n",
    "```\n",
    "\"\"\",\n",
    "\tinput_variables=[\"query\", \"chapter_summaries\"]\n",
    ")\n",
    "\n",
    "\n",
    "\n",
    "def call_llm_template(template, input_data):\n",
    "\n",
    "\ttry:\n",
    "\t\tllm = init_chat_model(**settings.processmodel.gpt41.model_dump(exclude_none=True))\n",
    "\t\tchain = template | llm | StrOutputParser()\n",
    "\t\treturn chain.invoke(input_data)\n",
    "\texcept Exception as e:\n",
    "\t\tprint(f\"Error calling LLM: {e}\")\n",
    "\t\n",
    "\t\n",
    "\tprint(\"- Warning: Retrying with gpt4o-mini...\")\n",
    "\ttry:\n",
    "\t\tllm = init_chat_model(**settings.processmodel.gpt4o_mini.model_dump(exclude_none=True))\n",
    "\t\tchain = template | llm | StrOutputParser()\n",
    "\t\treturn chain.invoke(input_data)\n",
    "\texcept Exception as e:\n",
    "\t\tprint(f\"Error calling LLM: {e}\")\n",
    "\n",
    "\n",
    "\tprint(\"- Warning: Retrying with gpt41-mini...\")\n",
    "\ttry:\n",
    "\t\tllm = init_chat_model(**settings.processmodel.gpt41_mini.model_dump(exclude_none=True))\n",
    "\t\tchain = template | llm | StrOutputParser()\n",
    "\t\treturn chain.invoke(input_data)\n",
    "\texcept Exception as e:\n",
    "\t\tprint(f\"Error calling LLM: {e}\")\n",
    "\t\n",
    "\n",
    "\tprint(\"- Warning: Retrying with o1_mini...\")\n",
    "\ttry:\n",
    "\t\tllm = init_chat_model(**settings.processmodel.o1_mini.model_dump(exclude_none=True))\n",
    "\t\tchain = template | llm | StrOutputParser()\n",
    "\t\treturn chain.invoke(input_data)\n",
    "\texcept Exception as e:\n",
    "\t\tprint(f\"Error calling LLM: {e}\")\n",
    "\t\n",
    "\tprint(\"- Warning: Retrying with gpt41_nano...\")\n",
    "\ttry:\n",
    "\t\tllm = init_chat_model(**settings.processmodel.gpt41_nano.model_dump(exclude_none=True))\n",
    "\t\tchain = template | llm | StrOutputParser()\n",
    "\t\treturn chain.invoke(input_data)\n",
    "\texcept Exception as e:\n",
    "\t\tprint(f\"Error calling LLM: {e}\")"
   ]
  },
  {
   "cell_type": "markdown",
   "id": "91de1959",
   "metadata": {},
   "source": [
    "#### Stages for retrieval\n",
    "- combines rag (5) + semantic retrieval llm on chapter names (5)\n",
    "- refines each 10 with context from short summary and reduces to 5 most relevant"
   ]
  },
  {
   "cell_type": "code",
   "execution_count": 9,
   "id": "6ff57fe9",
   "metadata": {},
   "outputs": [],
   "source": [
    "def clean_chapter(text):\n",
    "\ttext = text.replace(\"/\", \",\")\n",
    "\ttext = re.sub(r'#', '', text)\n",
    "\ttext = re.sub(r'\\d+', '', text) \n",
    "\ttext = re.sub(r'\\s*,\\s*', ', ', text) \n",
    "\ttext = re.sub(r'\\s+', ' ', text) \n",
    "\treturn text.lower().strip()\n",
    "\n",
    "def extract_leading_number(text: str) -> str | None:\n",
    "    match = re.match(r'^(\\d+)', text.strip())\n",
    "    return match.group(1) if match else None\n",
    "\n",
    "def load_candidate_summaries(path):\n",
    "\tids_candidate_mapping = {}\n",
    "\tids_chapter_mapping = {}\n",
    "\twith open(path, \"r\", encoding=\"utf-8\") as f:\n",
    "\t\tfor line in f:\n",
    "\t\t\ttry:\n",
    "\t\t\t\tentry = json.loads(line.strip())\n",
    "\t\t\t\tchapter = entry.get(\"chapter\", \"\").strip()\n",
    "\t\t\t\tchapter_id = extract_leading_number(chapter)\n",
    "\t\t\t\tsummary_text = entry.get(\"summary\", \"\").strip()\n",
    "\t\t\t\tsummary = f'Chapter: \"{clean_chapter(chapter)}\"\\nSymptoms: {summary_text}'\n",
    "\t\t\t\tids_candidate_mapping[chapter_id] = (chapter, clean_chapter(chapter))\n",
    "\t\t\t\tids_chapter_mapping[chapter_id] = (chapter, summary)\n",
    "\t\t\texcept json.JSONDecodeError as e:\n",
    "\t\t\t\tprint(f\"Skipping malformed line {id}: {e}\")\n",
    "\treturn ids_candidate_mapping, ids_chapter_mapping\n",
    "\n",
    "def retrieve_candidate_chapters_prompt(query, debug=False):\n",
    "\t# RAG Retrieval\n",
    "\tretrieval = get_criteria_vectorstore(query, top_k=5)\n",
    "\trag_candidates = [result[\"chapter\"] for result in retrieval]\n",
    "\t\n",
    "\t# Semantic Retrieval LLM on chapter names\n",
    "\tids_candidate_mapping, ids_chapter_mapping = load_candidate_summaries(\"Data/Chapter_Short_Summaries.jsonl\")\n",
    "\tcleaned_chapters = {id: cleaned for id, (_, cleaned) in ids_candidate_mapping.items()}\n",
    "\t\n",
    "\tresult = call_llm_template(semantic_prompt_template, {\n",
    "\t\t\"query\": query,\n",
    "\t\t\"chapter_summaries\":  json.dumps(cleaned_chapters, ensure_ascii=False, separators=(\",\", \":\"))\n",
    "\t})\n",
    "\n",
    "\tcandidate_ids = JsonOutputParser().parse(result)\n",
    "\tCoT = candidate_ids.get(\"cot\", \"\")\n",
    "\tllm_chapters = [ids_candidate_mapping[str(id)][0] for id in candidate_ids[\"retrieved\"]]\n",
    "\t\n",
    "\tif debug:\n",
    "\t\tdisplay(\"🔍 RAG retrieval candidates:\",rag_candidates)\n",
    "\t\tdisplay(\"🔍 LLM retrieval candidates:\",llm_chapters)\n",
    "\t\tprint(f\"🔍 Chain of Thought (CoT):\\n{CoT}\\n\")\n",
    "\n",
    "\t# Combine candidates from RAG and LLM\n",
    "\tcandidates = set(llm_chapters + rag_candidates)\n",
    "\n",
    "\t# Compare candidate summary content to find the most relevant chapter\n",
    "\tsummaries = {id: summary for id, (chapter, summary) in ids_chapter_mapping.items() if chapter in candidates}\n",
    "\n",
    "\tresult = call_llm_template(semantic_prompt_template, {\n",
    "\t\t\"query\": query,\n",
    "\t\t\"chapter_summaries\": json.dumps(summaries, ensure_ascii=False, separators=(\",\", \":\"))\n",
    "\t})\n",
    "\t \n",
    "\tchapter_ids = JsonOutputParser().parse(result)\n",
    "\tCoT = chapter_ids.get(\"cot\", \"\")\n",
    "\tchapters = [ids_chapter_mapping[id][0] for id in chapter_ids[\"retrieved\"]]\n",
    "\n",
    "\tif debug:\n",
    "\t\tdisplay(\"🔍 Final selected chapters:\",chapters)\n",
    "\t\tprint(f\"🔍 Final Chain of Thought (CoT): \\n{CoT}\\n\")\n",
    "\n",
    "\treturn chapters"
   ]
  },
  {
   "cell_type": "code",
   "execution_count": 10,
   "id": "6954d73e",
   "metadata": {},
   "outputs": [
    {
     "name": "stderr",
     "output_type": "stream",
     "text": [
      "/home/erik/Desktop/multi_stage_retrieval/.venv/lib64/python3.13/site-packages/tqdm/auto.py:21: TqdmWarning: IProgress not found. Please update jupyter and ipywidgets. See https://ipywidgets.readthedocs.io/en/stable/user_install.html\n",
      "  from .autonotebook import tqdm as notebook_tqdm\n"
     ]
    },
    {
     "name": "stdout",
     "output_type": "stream",
     "text": [
      "vague_dataset\n",
      "Dataset({\n",
      "    features: ['label', 'input_text'],\n",
      "    num_rows: 35\n",
      "})\n"
     ]
    }
   ],
   "source": [
    "from datasets import load_dataset\n",
    "vague_dataset = load_dataset(\"json\", data_files=\"Data/TestData/vague_data.jsonl\", split=\"train\")\n",
    "print(f\"vague_dataset\\n{vague_dataset}\")\n",
    "\n",
    "input_texts = []\n",
    "references = []\n",
    "\n",
    "for entry in vague_dataset:\n",
    "\tinput_texts.append(entry[\"input_text\"].strip())\n",
    "\treferences.append(entry[\"label\"])"
   ]
  },
  {
   "cell_type": "code",
   "execution_count": 13,
   "id": "5a17c5ef",
   "metadata": {},
   "outputs": [
    {
     "name": "stdout",
     "output_type": "stream",
     "text": [
      "Processing entry 1/35\n"
     ]
    },
    {
     "data": {
      "text/plain": [
       "'🔍 RAG retrieval candidates:'"
      ]
     },
     "metadata": {},
     "output_type": "display_data"
    },
    {
     "data": {
      "text/plain": [
       "['36 Uncertain / unidentified problem',\n",
       " '24 Functional decline',\n",
       " '33 Breathing problems',\n",
       " '08 Drowning',\n",
       " '11 Accident / injury']"
      ]
     },
     "metadata": {},
     "output_type": "display_data"
    },
    {
     "data": {
      "text/plain": [
       "'🔍 LLM retrieval candidates:'"
      ]
     },
     "metadata": {},
     "output_type": "display_data"
    },
    {
     "data": {
      "text/plain": [
       "['03 Unconscious / decreased level of consciousness, breathing normally',\n",
       " '34 Drug abuse / intoxication / overdose',\n",
       " '30 Hyperthermia / heat stroke / heat exhaustion',\n",
       " '36 Uncertain / unidentified problem',\n",
       " '22 Fever / infection / sepsis']"
      ]
     },
     "metadata": {},
     "output_type": "display_data"
    },
    {
     "name": "stdout",
     "output_type": "stream",
     "text": [
      "🔍 Chain of Thought (CoT):\n",
      "- Chapter 03 is highly relevant as it directly addresses the patient's unconscious state and decreased level of consciousness, which aligns with the observation of the patient being knocked out and not responding.\n",
      "- Chapter 34 is pertinent because it covers drug abuse, intoxication, or overdose, which could be a potential cause for the patient's unresponsiveness, especially given the unknown cause of the situation.\n",
      "- Chapter 30 is relevant due to the warm and stuffy room conditions, which could lead to hyperthermia or heat exhaustion, potentially contributing to the patient's state.\n",
      "- Chapter 36 is included because the cause of the patient's condition is unknown, and this chapter addresses uncertain or unidentified problems, which fits the scenario well.\n",
      "- Chapter 22 is relevant as it deals with fever, infection, or sepsis, which could also be a possible underlying issue given the patient's unresponsive state and the environmental conditions.\n",
      "\n"
     ]
    },
    {
     "data": {
      "text/plain": [
       "'🔍 Final selected chapters:'"
      ]
     },
     "metadata": {},
     "output_type": "display_data"
    },
    {
     "data": {
      "text/plain": [
       "['03 Unconscious / decreased level of consciousness, breathing normally',\n",
       " '34 Drug abuse / intoxication / overdose',\n",
       " '36 Uncertain / unidentified problem',\n",
       " '11 Accident / injury',\n",
       " '30 Hyperthermia / heat stroke / heat exhaustion']"
      ]
     },
     "metadata": {},
     "output_type": "display_data"
    },
    {
     "name": "stdout",
     "output_type": "stream",
     "text": [
      "🔍 Final Chain of Thought (CoT): \n",
      "- Chapter 03 is highly relevant because it specifically addresses a decreased level of consciousness while the patient is breathing normally, which aligns with the patient's condition of being knocked out but still having respiration.\n",
      "- Chapter 34 is pertinent as it discusses drug abuse and intoxication, which could explain the patient's unresponsiveness and the soft noise made, suggesting a possible overdose or intoxication scenario.\n",
      "- Chapter 36 is relevant due to the unknown cause of the patient's condition, highlighting symptoms like loss of consciousness and decreasing alertness, which fits the observations of the patient staring and not reacting.\n",
      "- Chapter 11 is included because it covers accidents and injuries, which could be a potential cause for the patient's state, especially considering the context of being knocked out and lying in an unusual position.\n",
      "- Chapter 30 is relevant as it discusses symptoms of heat-related illnesses, which could be a factor given the stuffy and warm room, potentially contributing to the patient's unresponsiveness.\n",
      "\n",
      "Processing entry 2/35\n"
     ]
    },
    {
     "data": {
      "text/plain": [
       "'🔍 RAG retrieval candidates:'"
      ]
     },
     "metadata": {},
     "output_type": "display_data"
    },
    {
     "data": {
      "text/plain": [
       "['33 Breathing problems',\n",
       " '04 Choking / foreign object',\n",
       " '36 Uncertain / unidentified problem',\n",
       " '24 Functional decline',\n",
       " '27 Stroke symptoms']"
      ]
     },
     "metadata": {},
     "output_type": "display_data"
    },
    {
     "data": {
      "text/plain": [
       "'🔍 LLM retrieval candidates:'"
      ]
     },
     "metadata": {},
     "output_type": "display_data"
    },
    {
     "data": {
      "text/plain": [
       "['33 Breathing problems',\n",
       " '04 Choking / foreign object',\n",
       " '19 Chest pain / cardiac disease',\n",
       " '15 Allergic reaction',\n",
       " '06 Mental health crisis - suicide risk']"
      ]
     },
     "metadata": {},
     "output_type": "display_data"
    },
    {
     "name": "stdout",
     "output_type": "stream",
     "text": [
      "🔍 Chain of Thought (CoT):\n",
      "- Chapter 33 (breathing problems): The user's irregular respiration and noticeable gaps between inhales indicate a potential breathing issue, making this chapter highly relevant.\n",
      "- Chapter 04 (choking, foreign object): Given the recent meal and the distress signals, there is a possibility of choking on a foreign object, which aligns with the symptoms observed.\n",
      "- Chapter 19 (chest pain, cardiac disease): The patient is pointing at their upper chest or neck, which could suggest chest pain or discomfort, warranting consideration of cardiac issues.\n",
      "- Chapter 15 (allergic reaction): The symptoms could also indicate an allergic reaction, especially if the meal included allergens, making this chapter relevant to the situation.\n",
      "- Chapter 06 (mental health crisis - suicide risk): The nervous flickering of the eyes and the change in behavior from chatty to quiet could suggest a mental health crisis, although this is less directly related than the other chapters.\n",
      "\n"
     ]
    },
    {
     "data": {
      "text/plain": [
       "'🔍 Final selected chapters:'"
      ]
     },
     "metadata": {},
     "output_type": "display_data"
    },
    {
     "data": {
      "text/plain": [
       "['33 Breathing problems',\n",
       " '04 Choking / foreign object',\n",
       " '19 Chest pain / cardiac disease',\n",
       " '27 Stroke symptoms',\n",
       " '36 Uncertain / unidentified problem']"
      ]
     },
     "metadata": {},
     "output_type": "display_data"
    },
    {
     "name": "stdout",
     "output_type": "stream",
     "text": [
      "🔍 Final Chain of Thought (CoT): \n",
      "- Chapter 33 (breathing problems) is highly relevant due to the user's irregular respiration, noticeable gaps between inhales, and the description of feeling distressed, which aligns with symptoms of significant difficulty breathing.\n",
      "- Chapter 04 (choking, foreign object) is pertinent because the user had a meal not long ago, and the symptoms of distress and pointing at the upper chest or neck suggest a possible airway blockage or choking.\n",
      "- Chapter 19 (chest pain, cardiac disease) is relevant as the user is indicating discomfort in the upper chest area, which could relate to cardiac issues, especially given the irregular breathing patterns.\n",
      "- Chapter 27 (stroke symptoms) is considered due to the user's nervous eye movements and altered communication (being mostly quiet), which could indicate neurological issues, although less directly related than the others.\n",
      "- Chapter 36 (uncertain, unidentified problem) is included because the user's symptoms are vague and could indicate a serious underlying issue, especially with the combination of distress and altered consciousness.\n",
      "\n",
      "Processing entry 3/35\n"
     ]
    },
    {
     "data": {
      "text/plain": [
       "'🔍 RAG retrieval candidates:'"
      ]
     },
     "metadata": {},
     "output_type": "display_data"
    },
    {
     "data": {
      "text/plain": [
       "['36 Uncertain / unidentified problem',\n",
       " '05 Mental health issue',\n",
       " '33 Breathing problems',\n",
       " '24 Functional decline',\n",
       " '27 Stroke symptoms']"
      ]
     },
     "metadata": {},
     "output_type": "display_data"
    },
    {
     "data": {
      "text/plain": [
       "'🔍 LLM retrieval candidates:'"
      ]
     },
     "metadata": {},
     "output_type": "display_data"
    },
    {
     "data": {
      "text/plain": [
       "['05 Mental health issue',\n",
       " '06 Mental health crisis - suicide risk',\n",
       " '14 Violence / abuse',\n",
       " '36 Uncertain / unidentified problem',\n",
       " '19 Chest pain / cardiac disease']"
      ]
     },
     "metadata": {},
     "output_type": "display_data"
    },
    {
     "name": "stdout",
     "output_type": "stream",
     "text": [
      "🔍 Chain of Thought (CoT):\n",
      "- Chapter 05 (mental health issue) is highly relevant as the user's behavior indicates possible mental distress or a psychological issue, characterized by restlessness and low-toned speech.\n",
      "- Chapter 06 (mental health crisis - suicide risk) is also pertinent given the user's unusual behavior and the potential for a mental health crisis, especially since the cause is unclear and there are signs of distress.\n",
      "- Chapter 14 (violence, abuse) is considered due to the disordered environment and the user's behavior, which may suggest a response to a traumatic or abusive situation.\n",
      "- Chapter 36 (uncertain, unidentified problem) is relevant because the cause of the user's condition is unclear, and this chapter addresses situations where the problem is not easily identifiable.\n",
      "- Chapter 19 (chest pain, cardiac disease) is included as a consideration since the user's restlessness and low tones could potentially be linked to anxiety or stress, which can sometimes manifest with physical symptoms, including chest discomfort.\n",
      "\n"
     ]
    },
    {
     "data": {
      "text/plain": [
       "'🔍 Final selected chapters:'"
      ]
     },
     "metadata": {},
     "output_type": "display_data"
    },
    {
     "data": {
      "text/plain": [
       "['05 Mental health issue',\n",
       " '06 Mental health crisis - suicide risk',\n",
       " '36 Uncertain / unidentified problem',\n",
       " '14 Violence / abuse',\n",
       " '33 Breathing problems']"
      ]
     },
     "metadata": {},
     "output_type": "display_data"
    },
    {
     "name": "stdout",
     "output_type": "stream",
     "text": [
      "🔍 Final Chain of Thought (CoT): \n",
      "- Chapter 05 is relevant because the symptoms described in the query, such as restlessness, low tones, and strange behavior, align with mental health issues, indicating a possible deterioration in mental health.\n",
      "- Chapter 06 is pertinent due to the potential for suicidal thoughts or self-harm, especially given the disordered environment and the patient's unusual behavior, which may suggest a mental health crisis.\n",
      "- Chapter 36 is applicable as the cause of the patient's condition is unclear, and the symptoms of confusion and restlessness could indicate an uncertain or unidentified problem.\n",
      "- Chapter 14 is relevant because the aggressive behavior and psychological reactions could be linked to violence or abuse, especially if the patient feels threatened or is experiencing hallucinations.\n",
      "- Chapter 33 is included as breathing problems can arise from anxiety or panic, which may be inferred from the patient's restlessness and the feeling of sensing something unseen.\n",
      "\n",
      "Processing entry 4/35\n"
     ]
    },
    {
     "data": {
      "text/plain": [
       "'🔍 RAG retrieval candidates:'"
      ]
     },
     "metadata": {},
     "output_type": "display_data"
    },
    {
     "data": {
      "text/plain": [
       "['36 Uncertain / unidentified problem',\n",
       " '24 Functional decline',\n",
       " '05 Mental health issue',\n",
       " '27 Stroke symptoms',\n",
       " '33 Breathing problems']"
      ]
     },
     "metadata": {},
     "output_type": "display_data"
    },
    {
     "data": {
      "text/plain": [
       "'🔍 LLM retrieval candidates:'"
      ]
     },
     "metadata": {},
     "output_type": "display_data"
    },
    {
     "data": {
      "text/plain": [
       "['06 Mental health crisis - suicide risk',\n",
       " '05 Mental health issue',\n",
       " '14 Violence / abuse',\n",
       " '22 Fever / infection / sepsis',\n",
       " '36 Uncertain / unidentified problem']"
      ]
     },
     "metadata": {},
     "output_type": "display_data"
    },
    {
     "name": "stdout",
     "output_type": "stream",
     "text": [
      "🔍 Chain of Thought (CoT):\n",
      "- Chapter 06 (mental health crisis - suicide risk) is highly relevant due to the concerning behavior changes, withdrawal, and low verbal responses indicating potential suicidal ideation.\n",
      "- Chapter 05 (mental health issue) is also pertinent as it encompasses general mental health concerns, which align with the observed agitation and subsequent withdrawal.\n",
      "- Chapter 14 (violence, abuse) is considered because the note found and the drastic change in behavior could suggest underlying issues related to abuse or violence, which may not be immediately apparent.\n",
      "- Chapter 22 (fever, infection, sepsis) is included as a possibility since significant changes in behavior can sometimes be linked to underlying medical conditions, including infections that affect mental status, although this is less direct.\n",
      "- Chapter 36 (uncertain, unidentified problem) is relevant due to the unclear cause of the behavior changes, indicating that further investigation is needed to determine the underlying issue.\n",
      "\n"
     ]
    },
    {
     "data": {
      "text/plain": [
       "'🔍 Final selected chapters:'"
      ]
     },
     "metadata": {},
     "output_type": "display_data"
    },
    {
     "data": {
      "text/plain": [
       "['06 Mental health crisis - suicide risk',\n",
       " '05 Mental health issue',\n",
       " '14 Violence / abuse',\n",
       " '36 Uncertain / unidentified problem',\n",
       " '22 Fever / infection / sepsis']"
      ]
     },
     "metadata": {},
     "output_type": "display_data"
    },
    {
     "name": "stdout",
     "output_type": "stream",
     "text": [
      "🔍 Final Chain of Thought (CoT): \n",
      "- Chapter 06 is highly relevant due to the mention of suicidal thoughts and acute risk, which aligns with the user's observations of extreme withdrawal and the concerning note found nearby.\n",
      "- Chapter 05 is also pertinent as it addresses mental health issues, including mood swings and strange behavior, which reflect the individual's current state of being quiet and withdrawn.\n",
      "- Chapter 14 is relevant because it discusses violence and abuse, which could be a concern given the drastic change in behavior and the potential for self-harm indicated by the note.\n",
      "- Chapter 36 is applicable as it deals with uncertain and unidentified problems, which fits the user's description of unclear causes and the individual's unresponsiveness.\n",
      "- Chapter 22, while less directly related, is still relevant as it covers signs of infection and fever, which could be a factor in the individual's overall unwellness, although it is not the primary concern based on the observations.\n",
      "\n",
      "Processing entry 5/35\n"
     ]
    },
    {
     "data": {
      "text/plain": [
       "'🔍 RAG retrieval candidates:'"
      ]
     },
     "metadata": {},
     "output_type": "display_data"
    },
    {
     "data": {
      "text/plain": [
       "['24 Functional decline',\n",
       " '36 Uncertain / unidentified problem',\n",
       " '29 Skin / rash',\n",
       " '11 Accident / injury',\n",
       " '35 Pain in the abdomen / back / extremities']"
      ]
     },
     "metadata": {},
     "output_type": "display_data"
    },
    {
     "data": {
      "text/plain": [
       "'🔍 LLM retrieval candidates:'"
      ]
     },
     "metadata": {},
     "output_type": "display_data"
    },
    {
     "data": {
      "text/plain": [
       "['29 Skin / rash',\n",
       " '11 Accident / injury',\n",
       " '17 Bite / insect sting',\n",
       " '05 Mental health issue',\n",
       " '36 Uncertain / unidentified problem']"
      ]
     },
     "metadata": {},
     "output_type": "display_data"
    },
    {
     "name": "stdout",
     "output_type": "stream",
     "text": [
      "🔍 Chain of Thought (CoT):\n",
      "- Chapter 29 (skin, rash): The reddened and slightly swollen skin around the forearm, along with dry and flaky areas, suggests a possible skin condition or rash, making this chapter highly relevant.\n",
      "- Chapter 11 (accident, injury): The context of the individual trying to fix something in the kitchen implies a potential injury, which aligns with the observations of pain and reluctance to move the arm.\n",
      "- Chapter 17 (bite, insect sting): The faint marks on the table could indicate a bite or sting, which might explain the swelling and discomfort in the arm, making this chapter relevant.\n",
      "- Chapter 05 (mental health issue): The person's withdrawn behavior and reluctance to talk may indicate an underlying mental health issue, which is worth considering in the context of their overall condition.\n",
      "- Chapter 36 (uncertain, unidentified problem): Given the unclear cause of the symptoms and the combination of physical and behavioral observations, this chapter is relevant as it addresses situations where the problem is not easily identifiable.\n",
      "\n"
     ]
    },
    {
     "data": {
      "text/plain": [
       "'🔍 Final selected chapters:'"
      ]
     },
     "metadata": {},
     "output_type": "display_data"
    },
    {
     "data": {
      "text/plain": [
       "['29 Skin / rash',\n",
       " '11 Accident / injury',\n",
       " '36 Uncertain / unidentified problem',\n",
       " '05 Mental health issue',\n",
       " '24 Functional decline']"
      ]
     },
     "metadata": {},
     "output_type": "display_data"
    },
    {
     "name": "stdout",
     "output_type": "stream",
     "text": [
      "🔍 Final Chain of Thought (CoT): \n",
      "- Chapter 29 (skin, rash) is relevant due to the observations of reddened and slightly swollen skin around the forearm, which may indicate a skin condition or rash.\n",
      "- Chapter 11 (accident, injury) is pertinent because the individual is avoiding movement of their right arm and is in pain when touched, suggesting a possible injury or trauma, especially since they were last seen trying to fix something.\n",
      "- Chapter 36 (uncertain, unidentified problem) applies as the cause of the condition is unclear, and the individual is exhibiting signs of distress and reluctance to communicate, indicating a potential psychosocial issue or an undiagnosed problem.\n",
      "- Chapter 05 (mental health issue) is considered because the individual appears withdrawn and reluctant to talk, which could indicate a mental health concern, although it is less directly related to the physical symptoms.\n",
      "- Chapter 24 (functional decline) is included as the individual shows signs of general unwellness and difficulty with movement, which may suggest a decline in their functional abilities, although this is less specific than the other chapters.\n",
      "\n",
      "Processing entry 6/35\n"
     ]
    },
    {
     "data": {
      "text/plain": [
       "'🔍 RAG retrieval candidates:'"
      ]
     },
     "metadata": {},
     "output_type": "display_data"
    },
    {
     "data": {
      "text/plain": [
       "['08 Drowning',\n",
       " '36 Uncertain / unidentified problem',\n",
       " '24 Functional decline',\n",
       " '33 Breathing problems',\n",
       " '27 Stroke symptoms']"
      ]
     },
     "metadata": {},
     "output_type": "display_data"
    },
    {
     "data": {
      "text/plain": [
       "'🔍 LLM retrieval candidates:'"
      ]
     },
     "metadata": {},
     "output_type": "display_data"
    },
    {
     "data": {
      "text/plain": [
       "['08 Drowning',\n",
       " '03 Unconscious / decreased level of consciousness, breathing normally',\n",
       " '33 Breathing problems',\n",
       " '06 Mental health crisis - suicide risk',\n",
       " '10 Chemicals / gasses / CBRN']"
      ]
     },
     "metadata": {},
     "output_type": "display_data"
    },
    {
     "name": "stdout",
     "output_type": "stream",
     "text": [
      "🔍 Chain of Thought (CoT):\n",
      "- Chapter 08 (drowning): The patient was found near a riverbank, which suggests a possible drowning incident. The soaked clothes and moist hair further support this scenario, making this chapter highly relevant.\n",
      "- Chapter 03 (unconscious, decreased level of consciousness, breathing normally): The patient is unresponsive and has a decreased level of consciousness, which aligns with the conditions described in this chapter.\n",
      "- Chapter 33 (breathing problems): The patient is exhibiting slow and shallow breathing with occasional pauses, indicating a potential respiratory issue, making this chapter pertinent.\n",
      "- Chapter 06 (mental health crisis - suicide risk): Given the circumstances of the patient being found near a riverbank and their unresponsive state, there may be a concern for a mental health crisis, which could be relevant to the situation.\n",
      "- Chapter 10 (chemicals, gasses, cbrn): While not the primary concern, the unknown cause of the patient's condition could involve exposure to harmful substances, making this chapter a consideration in the differential diagnosis.\n",
      "\n"
     ]
    },
    {
     "data": {
      "text/plain": [
       "'🔍 Final selected chapters:'"
      ]
     },
     "metadata": {},
     "output_type": "display_data"
    },
    {
     "data": {
      "text/plain": [
       "['08 Drowning',\n",
       " '36 Uncertain / unidentified problem',\n",
       " '03 Unconscious / decreased level of consciousness, breathing normally',\n",
       " '33 Breathing problems',\n",
       " '27 Stroke symptoms']"
      ]
     },
     "metadata": {},
     "output_type": "display_data"
    },
    {
     "name": "stdout",
     "output_type": "stream",
     "text": [
      "🔍 Final Chain of Thought (CoT): \n",
      "- Chapter 08 (drowning) is highly relevant because the user query indicates the individual was found near a riverbank, suggesting a possible drowning incident. The symptoms of being unconscious, drowsy, and having slow, shallow breathing align with drowning scenarios.\n",
      "- Chapter 36 (uncertain, unidentified problem) is pertinent as the individual is unresponsive, has pale skin, and shows signs of decreased consciousness. The symptoms described in this chapter match the observations of the patient being unwell and frail, with unclear problems.\n",
      "- Chapter 03 (unconscious, decreased level of consciousness, breathing normally) is relevant due to the patient's unresponsiveness and decreased level of consciousness. The symptoms of being unconscious and having a gradual return to alertness after a seizure could relate to the patient's current state.\n",
      "- Chapter 33 (breathing problems) is applicable because the patient exhibits very slow and shallow breathing, which could indicate significant respiratory distress. The symptoms of feeling of not getting enough air and pale clammy skin are also relevant.\n",
      "- Chapter 27 (stroke symptoms) is included as a consideration due to the potential for sudden loss of consciousness and confusion. Although the primary cause appears to be drowning, the symptoms of decreased consciousness and pale skin could also suggest a stroke or similar neurological event.\n",
      "\n",
      "Processing entry 7/35\n"
     ]
    },
    {
     "data": {
      "text/plain": [
       "'🔍 RAG retrieval candidates:'"
      ]
     },
     "metadata": {},
     "output_type": "display_data"
    },
    {
     "data": {
      "text/plain": [
       "['24 Functional decline',\n",
       " '33 Breathing problems',\n",
       " '36 Uncertain / unidentified problem',\n",
       " '08 Drowning',\n",
       " '27 Stroke symptoms']"
      ]
     },
     "metadata": {},
     "output_type": "display_data"
    },
    {
     "data": {
      "text/plain": [
       "'🔍 LLM retrieval candidates:'"
      ]
     },
     "metadata": {},
     "output_type": "display_data"
    },
    {
     "data": {
      "text/plain": [
       "['09 Scuba diving accident',\n",
       " '33 Breathing problems',\n",
       " '03 Unconscious / decreased level of consciousness, breathing normally',\n",
       " '10 Chemicals / gasses / CBRN',\n",
       " '22 Fever / infection / sepsis']"
      ]
     },
     "metadata": {},
     "output_type": "display_data"
    },
    {
     "name": "stdout",
     "output_type": "stream",
     "text": [
      "🔍 Chain of Thought (CoT):\n",
      "- Chapter 09 (scuba diving accident) is highly relevant because the individual had just come up from an activity requiring an oxygen tank, which suggests a potential diving-related issue.\n",
      "- Chapter 33 (breathing problems) is pertinent due to the observations of shallow and irregular breathing, indicating a respiratory issue that needs immediate attention.\n",
      "- Chapter 03 (unconscious, decreased level of consciousness) is relevant as the person is described as unusually quiet and sluggish, barely responding to stimuli, which points to a decreased level of consciousness.\n",
      "- Chapter 10 (chemicals, gasses, cbrn) is considered because the symptoms could potentially relate to exposure to harmful substances, especially in the context of scuba diving where gas embolism or other chemical exposure could occur.\n",
      "- Chapter 22 (fever, infection, sepsis) is included as a possibility since the pale, clammy skin could indicate a systemic issue, such as infection or sepsis, especially if the cause of the symptoms remains unclear.\n",
      "\n"
     ]
    },
    {
     "data": {
      "text/plain": [
       "'🔍 Final selected chapters:'"
      ]
     },
     "metadata": {},
     "output_type": "display_data"
    },
    {
     "data": {
      "text/plain": [
       "['09 Scuba diving accident',\n",
       " '33 Breathing problems',\n",
       " '10 Chemicals / gasses / CBRN',\n",
       " '27 Stroke symptoms',\n",
       " '36 Uncertain / unidentified problem']"
      ]
     },
     "metadata": {},
     "output_type": "display_data"
    },
    {
     "name": "stdout",
     "output_type": "stream",
     "text": [
      "🔍 Final Chain of Thought (CoT): \n",
      "- Chapter 09 (scuba diving accident) is highly relevant due to the context of the individual having just come up from an activity requiring an oxygen tank, which suggests a potential diving incident. Symptoms like pale clammy skin and shallow breathing align with this chapter's descriptions.\n",
      "- Chapter 33 (breathing problems) is pertinent as the individual exhibits shallow and irregular breathing, which is a key symptom in this chapter. The mention of pale clammy skin also supports this connection.\n",
      "- Chapter 10 (chemicals, gasses, cbrn) is relevant because the symptoms of pale clammy skin and decreased responsiveness could indicate exposure to hazardous materials, especially if the activity involved any chemicals or gases.\n",
      "- Chapter 27 (stroke symptoms) is included due to the altered consciousness and potential weakness indicated by the individual swaying or slumping. While not a direct match, the symptoms of confusion and decreased consciousness are concerning.\n",
      "- Chapter 36 (uncertain, unidentified problem) is relevant as it captures the overall uncertainty of the situation, with symptoms like pale clammy skin and loss of consciousness being critical indicators that align with the observations made.\n",
      "\n",
      "Processing entry 8/35\n"
     ]
    },
    {
     "data": {
      "text/plain": [
       "'🔍 RAG retrieval candidates:'"
      ]
     },
     "metadata": {},
     "output_type": "display_data"
    },
    {
     "data": {
      "text/plain": [
       "['33 Breathing problems',\n",
       " '36 Uncertain / unidentified problem',\n",
       " '04 Choking / foreign object',\n",
       " '10 Chemicals / gasses / CBRN',\n",
       " '24 Functional decline']"
      ]
     },
     "metadata": {},
     "output_type": "display_data"
    },
    {
     "data": {
      "text/plain": [
       "'🔍 LLM retrieval candidates:'"
      ]
     },
     "metadata": {},
     "output_type": "display_data"
    },
    {
     "data": {
      "text/plain": [
       "['10 Chemicals / gasses / CBRN',\n",
       " '23 Poisoning - not related to alcohol or drugs',\n",
       " '33 Breathing problems',\n",
       " '03 Unconscious / decreased level of consciousness, breathing normally',\n",
       " '34 Drug abuse / intoxication / overdose']"
      ]
     },
     "metadata": {},
     "output_type": "display_data"
    },
    {
     "name": "stdout",
     "output_type": "stream",
     "text": [
      "🔍 Chain of Thought (CoT):\n",
      "- Chapter 10 (chemicals, gasses, cbrn): The faint smell in the air and unusual discoloration suggest a possible chemical exposure, making this chapter highly relevant.\n",
      "- Chapter 23 (poisoning - not related to alcohol or drugs): The person's sluggishness and confusion could indicate poisoning, especially given the unclear cause and lab environment.\n",
      "- Chapter 33 (breathing problems): The individual is struggling to catch their breath, which directly relates to this chapter's focus on respiratory issues.\n",
      "- Chapter 03 (unconscious, decreased level of consciousness, breathing normally): The confusion and sluggishness indicate a decreased level of consciousness, making this chapter relevant to the observed condition.\n",
      "- Chapter 34 (drug abuse, intoxication, overdose): While the cause is unclear, the symptoms could also align with drug intoxication, especially in a lab setting where substances may be present.\n",
      "\n"
     ]
    },
    {
     "data": {
      "text/plain": [
       "'🔍 Final selected chapters:'"
      ]
     },
     "metadata": {},
     "output_type": "display_data"
    },
    {
     "data": {
      "text/plain": [
       "['10 Chemicals / gasses / CBRN',\n",
       " '23 Poisoning - not related to alcohol or drugs',\n",
       " '33 Breathing problems',\n",
       " '34 Drug abuse / intoxication / overdose',\n",
       " '36 Uncertain / unidentified problem']"
      ]
     },
     "metadata": {},
     "output_type": "display_data"
    },
    {
     "name": "stdout",
     "output_type": "stream",
     "text": [
      "🔍 Final Chain of Thought (CoT): \n",
      "- Chapter 10 is relevant because the individual was in a lab environment with a faint smell and unusual residue, suggesting possible exposure to toxic gases or chemicals, which aligns with symptoms like unconsciousness and severe shortness of breath.\n",
      "- Chapter 23 is pertinent as it addresses poisoning from corrosive substances, which could explain the individual's pale, clammy skin and difficulty breathing, especially given the unclear cause related to their environment.\n",
      "- Chapter 33 is significant due to the symptoms of struggling to catch their breath and feeling unwell, which could indicate a respiratory issue, possibly exacerbated by exposure to harmful substances in the lab.\n",
      "- Chapter 34 is relevant as it discusses intoxication and overdose, which could be a concern if the individual was exposed to a toxic substance, leading to confusion and decreased responsiveness.\n",
      "- Chapter 36 is included because it covers cases of sudden onset issues with unclear problems, which fits the scenario of the individual being unwell and confused with a potential environmental cause.\n",
      "\n",
      "Processing entry 9/35\n"
     ]
    },
    {
     "data": {
      "text/plain": [
       "'🔍 RAG retrieval candidates:'"
      ]
     },
     "metadata": {},
     "output_type": "display_data"
    },
    {
     "data": {
      "text/plain": [
       "['36 Uncertain / unidentified problem',\n",
       " '11 Accident / injury',\n",
       " '24 Functional decline',\n",
       " '08 Drowning',\n",
       " '33 Breathing problems']"
      ]
     },
     "metadata": {},
     "output_type": "display_data"
    },
    {
     "data": {
      "text/plain": [
       "'🔍 LLM retrieval candidates:'"
      ]
     },
     "metadata": {},
     "output_type": "display_data"
    },
    {
     "data": {
      "text/plain": [
       "['03 Unconscious / decreased level of consciousness, breathing normally',\n",
       " '11 Accident / injury',\n",
       " '13 Road traffic accident - RTA',\n",
       " '10 Chemicals / gasses / CBRN',\n",
       " '18 Bleeding - non-traumatic']"
      ]
     },
     "metadata": {},
     "output_type": "display_data"
    },
    {
     "name": "stdout",
     "output_type": "stream",
     "text": [
      "🔍 Chain of Thought (CoT):\n",
      "- Chapter 03 is relevant because the person appears dazed and unsteady, indicating a decreased level of consciousness, which aligns with the chapter's focus on unconsciousness and altered consciousness.\n",
      "- Chapter 11 is pertinent due to the mention of a sudden event involving impact, suggesting an accident or injury, which is directly addressed in this chapter.\n",
      "- Chapter 13 is included as the observations suggest a possible road traffic accident or similar incident, given the sudden uncontrolled movement and potential trauma.\n",
      "- Chapter 10 is relevant because the faint stains on clothing could indicate exposure to chemicals or other hazardous materials, which may be a concern in the context of the observed condition.\n",
      "- Chapter 18 is selected due to the irregular breathing sounds, which could indicate bleeding or other non-traumatic causes that may affect the person's condition.\n",
      "\n"
     ]
    },
    {
     "data": {
      "text/plain": [
       "'🔍 Final selected chapters:'"
      ]
     },
     "metadata": {},
     "output_type": "display_data"
    },
    {
     "data": {
      "text/plain": [
       "['11 Accident / injury',\n",
       " '13 Road traffic accident - RTA',\n",
       " '03 Unconscious / decreased level of consciousness, breathing normally',\n",
       " '36 Uncertain / unidentified problem',\n",
       " '33 Breathing problems']"
      ]
     },
     "metadata": {},
     "output_type": "display_data"
    },
    {
     "name": "stdout",
     "output_type": "stream",
     "text": [
      "🔍 Final Chain of Thought (CoT): \n",
      "- Chapter 11 (accident, injury) is highly relevant due to the observed trauma from a drop, which aligns with symptoms like severe pain, possible fractures, and unconsciousness. The person lying awkwardly suggests a significant injury.\n",
      "- Chapter 13 (road traffic accident - rta) is also pertinent as it covers severe pain, head injury, and being trapped, which could relate to the sudden uncontrolled movement and potential impact.\n",
      "- Chapter 03 (unconscious, decreased level of consciousness) is relevant because the person appears dazed and is drifting in and out of awareness, indicating a decreased level of consciousness.\n",
      "- Chapter 36 (uncertain, unidentified problem) is applicable since the cause is unclear, and the symptoms include loss of consciousness and difficulty communicating, which fits the observations of the individual being dazed and unsteady.\n",
      "- Chapter 33 (breathing problems) is included due to the irregular and labored breathing sounds, which are significant in assessing the person's condition and could indicate a respiratory issue related to the trauma.\n",
      "\n",
      "Processing entry 10/35\n"
     ]
    },
    {
     "data": {
      "text/plain": [
       "'🔍 RAG retrieval candidates:'"
      ]
     },
     "metadata": {},
     "output_type": "display_data"
    },
    {
     "data": {
      "text/plain": [
       "['36 Uncertain / unidentified problem',\n",
       " '05 Mental health issue',\n",
       " '33 Breathing problems',\n",
       " '04 Choking / foreign object',\n",
       " '24 Functional decline']"
      ]
     },
     "metadata": {},
     "output_type": "display_data"
    },
    {
     "data": {
      "text/plain": [
       "'🔍 LLM retrieval candidates:'"
      ]
     },
     "metadata": {},
     "output_type": "display_data"
    },
    {
     "data": {
      "text/plain": [
       "['12 Major incident',\n",
       " '11 Accident / injury',\n",
       " '10 Chemicals / gasses / CBRN',\n",
       " '34 Drug abuse / intoxication / overdose',\n",
       " '19 Chest pain / cardiac disease']"
      ]
     },
     "metadata": {},
     "output_type": "display_data"
    },
    {
     "name": "stdout",
     "output_type": "stream",
     "text": [
      "🔍 Chain of Thought (CoT):\n",
      "- Chapter 12 (major incident) is highly relevant as the chaotic environment, loud noise, and scattered debris suggest a significant event has occurred, likely affecting multiple individuals.\n",
      "- Chapter 11 (accident, injury) is pertinent because the description of people being unsettled and unable to move easily indicates potential injuries resulting from an accident.\n",
      "- Chapter 10 (chemicals, gasses, cbrn) is relevant due to the faint smell in the air, which could imply exposure to harmful substances, especially in a chaotic setting.\n",
      "- Chapter 34 (drug abuse, intoxication, overdose) is considered because the confusion and inability to move could also stem from substance-related issues, particularly in a disordered environment.\n",
      "- Chapter 19 (chest pain, cardiac disease) is included as a possibility since the stress of the situation could lead to cardiac symptoms in some individuals, especially if they are already vulnerable.\n",
      "\n"
     ]
    },
    {
     "data": {
      "text/plain": [
       "'🔍 Final selected chapters:'"
      ]
     },
     "metadata": {},
     "output_type": "display_data"
    },
    {
     "data": {
      "text/plain": [
       "['12 Major incident',\n",
       " '10 Chemicals / gasses / CBRN',\n",
       " '34 Drug abuse / intoxication / overdose',\n",
       " '05 Mental health issue',\n",
       " '36 Uncertain / unidentified problem']"
      ]
     },
     "metadata": {},
     "output_type": "display_data"
    },
    {
     "name": "stdout",
     "output_type": "stream",
     "text": [
      "🔍 Final Chain of Thought (CoT): \n",
      "- Chapter 12 (major incident) is highly relevant due to the chaotic environment described, with loud noises, scattered debris, and a sense of urgency among the crowd, indicating a possible mass-casualty incident or emergency situation.\n",
      "- Chapter 10 (chemicals, gasses, cbrn) is pertinent because the faint smell in the air could suggest a hazardous materials incident, which aligns with the symptoms of confusion and distress among the individuals present.\n",
      "- Chapter 34 (drug abuse, intoxication, overdose) is relevant as the confusion and inability to move easily could be indicative of intoxication or overdose, especially in a chaotic setting where substances might be involved.\n",
      "- Chapter 05 (mental health issue) is considered because the unsettled and confused state of several individuals may reflect a deterioration in mental health, possibly exacerbated by the overwhelming situation.\n",
      "- Chapter 36 (uncertain, unidentified problem) is included due to the unclear cause of the disturbance, with symptoms like pale, clammy skin and loss of consciousness being possible in such a chaotic environment.\n",
      "\n",
      "Processing entry 11/35\n"
     ]
    },
    {
     "data": {
      "text/plain": [
       "'🔍 RAG retrieval candidates:'"
      ]
     },
     "metadata": {},
     "output_type": "display_data"
    },
    {
     "data": {
      "text/plain": [
       "['36 Uncertain / unidentified problem',\n",
       " '24 Functional decline',\n",
       " '11 Accident / injury',\n",
       " '08 Drowning',\n",
       " '10 Chemicals / gasses / CBRN']"
      ]
     },
     "metadata": {},
     "output_type": "display_data"
    },
    {
     "data": {
      "text/plain": [
       "'🔍 LLM retrieval candidates:'"
      ]
     },
     "metadata": {},
     "output_type": "display_data"
    },
    {
     "data": {
      "text/plain": [
       "['11 Accident / injury',\n",
       " '13 Road traffic accident - RTA',\n",
       " '10 Chemicals / gasses / CBRN',\n",
       " '03 Unconscious / decreased level of consciousness, breathing normally',\n",
       " '33 Breathing problems']"
      ]
     },
     "metadata": {},
     "output_type": "display_data"
    },
    {
     "name": "stdout",
     "output_type": "stream",
     "text": [
      "🔍 Chain of Thought (CoT):\n",
      "- Chapter 11 (accident, injury): The scenario describes a person who is dazed and barely responsive after a sudden and forceful event, which suggests an accident or injury has occurred. The presence of a crumpled metal frame and torn clothing supports this chapter's relevance.\n",
      "- Chapter 13 (road traffic accident - rta): The description of the scene, including the twisted tire and the impact-related injuries, strongly indicates a road traffic accident, making this chapter highly relevant.\n",
      "- Chapter 10 (chemicals, gasses, cbrn): The faint smell of fuel nearby raises concerns about potential exposure to harmful chemicals or gases, which could contribute to the individual's condition.\n",
      "- Chapter 03 (unconscious, decreased level of consciousness, breathing normally): The individual is described as dazed and barely responsive, indicating a decreased level of consciousness, which aligns with this chapter's focus.\n",
      "- Chapter 33 (breathing problems): The individual is struggling to breathe and gasping, which indicates a significant respiratory issue, making this chapter relevant to the observed symptoms.\n",
      "\n"
     ]
    },
    {
     "data": {
      "text/plain": [
       "'🔍 Final selected chapters:'"
      ]
     },
     "metadata": {},
     "output_type": "display_data"
    },
    {
     "data": {
      "text/plain": [
       "['11 Accident / injury',\n",
       " '13 Road traffic accident - RTA',\n",
       " '10 Chemicals / gasses / CBRN',\n",
       " '36 Uncertain / unidentified problem',\n",
       " '33 Breathing problems']"
      ]
     },
     "metadata": {},
     "output_type": "display_data"
    },
    {
     "name": "stdout",
     "output_type": "stream",
     "text": [
      "🔍 Final Chain of Thought (CoT): \n",
      "- Chapter 11 (accident, injury) is highly relevant due to the observations of the individual being slumped against a crumpled metal frame, which suggests a significant impact or injury. The symptoms of severe pain, possible fractures, and major blood loss align with the described condition.\n",
      "- Chapter 13 (road traffic accident - rta) is pertinent as the scenario involves a sudden and forceful event, likely a collision, indicated by the crumpled metal frame and twisted tire. The symptoms of severe pain, head injury, and unconsciousness match the individual's dazed and barely responsive state.\n",
      "- Chapter 10 (chemicals, gasses, cbrn) is relevant because of the faint smell of fuel nearby, which could indicate exposure to toxic substances. The symptoms of unconsciousness after a hazardous materials incident and severe shortness of breath are applicable to the individual's condition.\n",
      "- Chapter 36 (uncertain, unidentified problem) is applicable due to the unclear cause of the individual's condition, along with symptoms like pale, clammy skin and altered consciousness. The observations of confusion and exhaustion also fit this chapter's description.\n",
      "- Chapter 33 (breathing problems) is relevant as the individual is gasping and struggling to breathe, which aligns with the symptoms of significant difficulty breathing and pale, clammy skin. This chapter addresses the respiratory distress observed in the query.\n",
      "\n",
      "Processing entry 12/35\n"
     ]
    },
    {
     "data": {
      "text/plain": [
       "'🔍 RAG retrieval candidates:'"
      ]
     },
     "metadata": {},
     "output_type": "display_data"
    },
    {
     "data": {
      "text/plain": [
       "['36 Uncertain / unidentified problem',\n",
       " '05 Mental health issue',\n",
       " '33 Breathing problems',\n",
       " '24 Functional decline',\n",
       " '27 Stroke symptoms']"
      ]
     },
     "metadata": {},
     "output_type": "display_data"
    },
    {
     "data": {
      "text/plain": [
       "'🔍 LLM retrieval candidates:'"
      ]
     },
     "metadata": {},
     "output_type": "display_data"
    },
    {
     "data": {
      "text/plain": [
       "['05 Mental health issue',\n",
       " '14 Violence / abuse',\n",
       " '36 Uncertain / unidentified problem',\n",
       " '11 Accident / injury',\n",
       " '22 Fever / infection / sepsis']"
      ]
     },
     "metadata": {},
     "output_type": "display_data"
    },
    {
     "name": "stdout",
     "output_type": "stream",
     "text": [
      "🔍 Chain of Thought (CoT):\n",
      "- Chapter 05 (mental health issue): The person's withdrawn behavior and confusion suggest a potential mental health issue, making this chapter highly relevant.\n",
      "- Chapter 14 (violence, abuse): The presence of faint bruises and the tense atmosphere indicate possible recent distress or confrontation, which aligns with this chapter's focus on violence and abuse.\n",
      "- Chapter 36 (uncertain, unidentified problem): Given the unclear circumstances and the overall confusion, this chapter is relevant as it addresses situations where the problem is not clearly identified.\n",
      "- Chapter 11 (accident, injury): The faint bruises could indicate a recent injury, making this chapter pertinent to the observations of physical signs.\n",
      "- Chapter 22 (fever, infection, sepsis): While not directly indicated, the tense environment and the person's state could suggest underlying health issues, including infection, which this chapter covers.\n",
      "\n"
     ]
    },
    {
     "data": {
      "text/plain": [
       "'🔍 Final selected chapters:'"
      ]
     },
     "metadata": {},
     "output_type": "display_data"
    },
    {
     "data": {
      "text/plain": [
       "['14 Violence / abuse',\n",
       " '05 Mental health issue',\n",
       " '36 Uncertain / unidentified problem',\n",
       " '22 Fever / infection / sepsis',\n",
       " '11 Accident / injury']"
      ]
     },
     "metadata": {},
     "output_type": "display_data"
    },
    {
     "name": "stdout",
     "output_type": "stream",
     "text": [
      "🔍 Final Chain of Thought (CoT): \n",
      "- Chapter 14 (violence, abuse) is highly relevant due to the faint bruises and the tense atmosphere suggesting possible recent distress or confrontation, indicating potential physical abuse or violence.\n",
      "- Chapter 05 (mental health issue) is pertinent as the person appears quiet, withdrawn, and confused, which aligns with symptoms of mental health deterioration and anxiety.\n",
      "- Chapter 36 (uncertain, unidentified problem) fits the situation as the cause is unclear, and the observations indicate a state of unwellness and confusion, which could suggest an unidentified medical issue.\n",
      "- Chapter 22 (fever, infection, sepsis) is relevant as the person’s confusion and the tense environment could suggest an underlying infection or sepsis, especially if they are feeling unwell.\n",
      "- Chapter 11 (accident, injury) is included because the faint bruises could indicate a recent injury, and the overall observations suggest a possibility of trauma or physical harm.\n",
      "\n",
      "Processing entry 13/35\n"
     ]
    },
    {
     "data": {
      "text/plain": [
       "'🔍 RAG retrieval candidates:'"
      ]
     },
     "metadata": {},
     "output_type": "display_data"
    },
    {
     "data": {
      "text/plain": [
       "['29 Skin / rash',\n",
       " '15 Allergic reaction',\n",
       " '36 Uncertain / unidentified problem',\n",
       " '16 Child / infant - illness',\n",
       " '24 Functional decline']"
      ]
     },
     "metadata": {},
     "output_type": "display_data"
    },
    {
     "data": {
      "text/plain": [
       "'🔍 LLM retrieval candidates:'"
      ]
     },
     "metadata": {},
     "output_type": "display_data"
    },
    {
     "data": {
      "text/plain": [
       "['15 Allergic reaction',\n",
       " '22 Fever / infection / sepsis',\n",
       " '33 Breathing problems',\n",
       " '05 Mental health issue',\n",
       " '36 Uncertain / unidentified problem']"
      ]
     },
     "metadata": {},
     "output_type": "display_data"
    },
    {
     "name": "stdout",
     "output_type": "stream",
     "text": [
      "🔍 Chain of Thought (CoT):\n",
      "- Chapter 15 (allergic reaction): The symptoms of being less responsive, struggling to breathe, and the appearance of a rash after eating something new strongly suggest a possible allergic reaction, making this chapter highly relevant.\n",
      "- Chapter 22 (fever, infection, sepsis): The pale and sweaty appearance could indicate a systemic response to an infection or sepsis, which is relevant given the sudden change in condition.\n",
      "- Chapter 33 (breathing problems): The struggle to catch breath and uneven sounds when trying to speak indicate significant respiratory distress, making this chapter pertinent.\n",
      "- Chapter 05 (mental health issue): While not the primary concern, the unsettled behavior could suggest an underlying mental health issue, especially if the person is feeling anxious or panicked due to their physical symptoms.\n",
      "- Chapter 36 (uncertain, unidentified problem): Since the cause of the symptoms is unclear, this chapter is relevant as it encompasses cases where the diagnosis is not immediately apparent.\n",
      "\n"
     ]
    },
    {
     "data": {
      "text/plain": [
       "'🔍 Final selected chapters:'"
      ]
     },
     "metadata": {},
     "output_type": "display_data"
    },
    {
     "data": {
      "text/plain": [
       "['15 Allergic reaction',\n",
       " '33 Breathing problems',\n",
       " '22 Fever / infection / sepsis',\n",
       " '36 Uncertain / unidentified problem',\n",
       " '05 Mental health issue']"
      ]
     },
     "metadata": {},
     "output_type": "display_data"
    },
    {
     "name": "stdout",
     "output_type": "stream",
     "text": [
      "🔍 Final Chain of Thought (CoT): \n",
      "- Chapter 15 (allergic reaction) is highly relevant because the symptoms described, such as difficulty speaking, pale clammy skin, and the onset of a rash after eating something new, strongly suggest a possible allergic reaction.\n",
      "- Chapter 33 (breathing problems) is pertinent due to the observations of struggling to catch breath and making uneven sounds when trying to speak, indicating significant respiratory distress.\n",
      "- Chapter 22 (fever, infection, sepsis) is relevant as the person appears unwell, with pale skin and sweating, which could indicate an infection or sepsis, especially in the context of a sudden change in condition.\n",
      "- Chapter 36 (uncertain, unidentified problem) is applicable because the cause of the symptoms is unclear, and the person is showing signs of distress and decreased responsiveness, which aligns with the chapter's focus on unidentified issues.\n",
      "- Chapter 05 (mental health issue) is less relevant but still included as the person is unsettled and less responsive, which could indicate a mental health component, although the physical symptoms take precedence.\n",
      "\n",
      "Processing entry 14/35\n"
     ]
    },
    {
     "data": {
      "text/plain": [
       "'🔍 RAG retrieval candidates:'"
      ]
     },
     "metadata": {},
     "output_type": "display_data"
    },
    {
     "data": {
      "text/plain": [
       "['16 Child / infant - illness',\n",
       " '36 Uncertain / unidentified problem',\n",
       " '33 Breathing problems',\n",
       " '24 Functional decline',\n",
       " '04 Choking / foreign object']"
      ]
     },
     "metadata": {},
     "output_type": "display_data"
    },
    {
     "data": {
      "text/plain": [
       "'🔍 LLM retrieval candidates:'"
      ]
     },
     "metadata": {},
     "output_type": "display_data"
    },
    {
     "data": {
      "text/plain": [
       "['22 Fever / infection / sepsis',\n",
       " '30 Hyperthermia / heat stroke / heat exhaustion',\n",
       " '24 Functional decline',\n",
       " '05 Mental health issue',\n",
       " '33 Breathing problems']"
      ]
     },
     "metadata": {},
     "output_type": "display_data"
    },
    {
     "name": "stdout",
     "output_type": "stream",
     "text": [
      "🔍 Chain of Thought (CoT):\n",
      "- Chapter 22 (fever, infection, sepsis): The child's skin feels hotter than expected and clammy, which could indicate a fever or infection, making this chapter highly relevant.\n",
      "- Chapter 30 (hyperthermia, heat stroke, heat exhaustion): The child's unusual quietness and restlessness, along with the clammy skin, could suggest overheating or heat-related illness, warranting consideration of this chapter.\n",
      "- Chapter 24 (functional decline): The caregiver's observation that the child seems weaker than before and tires quickly during play points to a decline in functional status, making this chapter pertinent.\n",
      "- Chapter 05 (mental health issue): While the primary concerns are physical, the child's unusual behavior and lack of responsiveness could also suggest underlying mental health issues, thus this chapter is relevant.\n",
      "- Chapter 33 (breathing problems): The mention of coughing could indicate respiratory issues, making this chapter relevant to the child's condition.\n",
      "\n"
     ]
    },
    {
     "data": {
      "text/plain": [
       "'🔍 Final selected chapters:'"
      ]
     },
     "metadata": {},
     "output_type": "display_data"
    },
    {
     "data": {
      "text/plain": [
       "['22 Fever / infection / sepsis',\n",
       " '24 Functional decline',\n",
       " '16 Child / infant - illness',\n",
       " '36 Uncertain / unidentified problem',\n",
       " '05 Mental health issue']"
      ]
     },
     "metadata": {},
     "output_type": "display_data"
    },
    {
     "name": "stdout",
     "output_type": "stream",
     "text": [
      "🔍 Final Chain of Thought (CoT): \n",
      "- Chapter 22 (fever, infection, sepsis) is highly relevant due to the child's symptoms of feeling hotter than expected, clammy skin, and signs of weakness, which could indicate an infection or sepsis.\n",
      "- Chapter 24 (functional decline) is pertinent as it addresses general unwellness, inability to perform activities, and signs of fatigue, aligning with the child's observed restlessness and quick tiring during play.\n",
      "- Chapter 16 (child, infant - illness) is relevant because it covers a range of symptoms in children, including fever, irritability, and cough, which match the child's current state and symptoms.\n",
      "- Chapter 36 (uncertain, unidentified problem) is applicable since the cause of the child's condition is unclear, and it discusses symptoms like pale, clammy skin and decreased consciousness, which could relate to the child's overall weakness.\n",
      "- Chapter 05 (mental health issue) is included as the child's unusual quietness and restlessness may suggest a change in mental state, although it is less directly related than the other chapters.\n",
      "\n",
      "Processing entry 15/35\n"
     ]
    },
    {
     "data": {
      "text/plain": [
       "'🔍 RAG retrieval candidates:'"
      ]
     },
     "metadata": {},
     "output_type": "display_data"
    },
    {
     "data": {
      "text/plain": [
       "['36 Uncertain / unidentified problem',\n",
       " '29 Skin / rash',\n",
       " '16 Child / infant - illness',\n",
       " '33 Breathing problems',\n",
       " '27 Stroke symptoms']"
      ]
     },
     "metadata": {},
     "output_type": "display_data"
    },
    {
     "data": {
      "text/plain": [
       "'🔍 LLM retrieval candidates:'"
      ]
     },
     "metadata": {},
     "output_type": "display_data"
    },
    {
     "data": {
      "text/plain": [
       "['17 Bite / insect sting',\n",
       " '15 Allergic reaction',\n",
       " '29 Skin / rash',\n",
       " '22 Fever / infection / sepsis',\n",
       " '05 Mental health issue']"
      ]
     },
     "metadata": {},
     "output_type": "display_data"
    },
    {
     "name": "stdout",
     "output_type": "stream",
     "text": [
      "🔍 Chain of Thought (CoT):\n",
      "- Chapter 17 (bite, insect sting): The mention of a small mark on the arm and the outdoor encounter suggests a possible insect bite or sting, which could lead to allergic reactions or other complications.\n",
      "- Chapter 15 (allergic reaction): The symptoms of weakness, restlessness, and a spreading rash could indicate an allergic reaction, especially if the cause is related to an outdoor encounter.\n",
      "- Chapter 29 (skin, rash): The observation of a faint rash spreading is directly relevant to this chapter, as it focuses on skin conditions, which could be a sign of an underlying issue.\n",
      "- Chapter 22 (fever, infection, sepsis): The pale skin and weakness could suggest an infection or systemic response, which is relevant to this chapter, especially if the rash is indicative of an infectious process.\n",
      "- Chapter 05 (mental health issue): The agitation and difficulty getting words out may point to a mental health concern, which could be exacerbated by physical symptoms or distress from the unknown cause.\n",
      "\n"
     ]
    },
    {
     "data": {
      "text/plain": [
       "'🔍 Final selected chapters:'"
      ]
     },
     "metadata": {},
     "output_type": "display_data"
    },
    {
     "data": {
      "text/plain": [
       "['33 Breathing problems',\n",
       " '17 Bite / insect sting',\n",
       " '22 Fever / infection / sepsis',\n",
       " '05 Mental health issue',\n",
       " '36 Uncertain / unidentified problem']"
      ]
     },
     "metadata": {},
     "output_type": "display_data"
    },
    {
     "name": "stdout",
     "output_type": "stream",
     "text": [
      "🔍 Final Chain of Thought (CoT): \n",
      "- Chapter 33 (breathing problems) is relevant due to the observed uneven breathing and discomfort while swallowing, which aligns with symptoms of significant difficulty breathing and anxiety.\n",
      "- Chapter 17 (bite, insect sting) is pertinent because the user mentions a small mark on the arm and a possible outdoor encounter, suggesting a potential insect sting or bite, especially given the symptoms of pale skin and difficulty swallowing.\n",
      "- Chapter 22 (fever, infection, sepsis) is applicable as the person appears weak, restless, and has a spreading rash, which could indicate an infection or sepsis, especially with the mention of feeling unwell.\n",
      "- Chapter 05 (mental health issue) is included because the agitation and restlessness could suggest a mental health component, particularly if there is confusion or anxiety present.\n",
      "- Chapter 36 (uncertain, unidentified problem) is relevant due to the unclear cause of the symptoms and the overall unwell state, which includes pale skin and difficulty communicating.\n",
      "\n",
      "Processing entry 16/35\n"
     ]
    },
    {
     "data": {
      "text/plain": [
       "'🔍 RAG retrieval candidates:'"
      ]
     },
     "metadata": {},
     "output_type": "display_data"
    },
    {
     "data": {
      "text/plain": [
       "['36 Uncertain / unidentified problem',\n",
       " '24 Functional decline',\n",
       " '33 Breathing problems',\n",
       " '20 Diabetes',\n",
       " '35 Pain in the abdomen / back / extremities']"
      ]
     },
     "metadata": {},
     "output_type": "display_data"
    },
    {
     "data": {
      "text/plain": [
       "'🔍 LLM retrieval candidates:'"
      ]
     },
     "metadata": {},
     "output_type": "display_data"
    },
    {
     "data": {
      "text/plain": [
       "['35 Pain in the abdomen / back / extremities',\n",
       " '22 Fever / infection / sepsis',\n",
       " '18 Bleeding - non-traumatic',\n",
       " '20 Diabetes',\n",
       " '36 Uncertain / unidentified problem']"
      ]
     },
     "metadata": {},
     "output_type": "display_data"
    },
    {
     "name": "stdout",
     "output_type": "stream",
     "text": [
      "🔍 Chain of Thought (CoT):\n",
      "- Chapter 35 (pain in the abdomen, back, extremities) is highly relevant due to the episodes of stomach discomfort described by the patient, indicating potential abdominal issues.\n",
      "- Chapter 22 (fever, infection, sepsis) is pertinent as the symptoms of being pale and unusually tired could suggest an underlying infection or sepsis, especially with the presence of unusual material.\n",
      "- Chapter 18 (bleeding - non-traumatic) is relevant because the unusual red or dark material could indicate gastrointestinal bleeding, which aligns with the patient's digestive history.\n",
      "- Chapter 20 (diabetes) is included as a consideration since fatigue and weakness can be symptoms of diabetes, although the query does not explicitly mention a history of diabetes.\n",
      "- Chapter 36 (uncertain, unidentified problem) is selected due to the unknown cause of the symptoms, which makes it necessary to consider a broad range of potential issues.\n",
      "\n"
     ]
    },
    {
     "data": {
      "text/plain": [
       "'🔍 Final selected chapters:'"
      ]
     },
     "metadata": {},
     "output_type": "display_data"
    },
    {
     "data": {
      "text/plain": [
       "['35 Pain in the abdomen / back / extremities',\n",
       " '18 Bleeding - non-traumatic',\n",
       " '36 Uncertain / unidentified problem',\n",
       " '24 Functional decline',\n",
       " '33 Breathing problems']"
      ]
     },
     "metadata": {},
     "output_type": "display_data"
    },
    {
     "name": "stdout",
     "output_type": "stream",
     "text": [
      "🔍 Final Chain of Thought (CoT): \n",
      "- Chapter 35 is highly relevant due to the symptoms of stomach discomfort and the presence of unusual red or dark material, which could indicate gastrointestinal bleeding or severe abdominal pain.\n",
      "- Chapter 18 is pertinent as it addresses non-traumatic bleeding, which aligns with the observation of unusual red or dark material, possibly indicating internal bleeding or gastrointestinal issues.\n",
      "- Chapter 36 is relevant because the symptoms include pale and clammy skin, weakness, and an unclear problem, which fits the description of the person's condition and the sudden onset of symptoms.\n",
      "- Chapter 24 is applicable as it discusses general unwellness and symptoms like pale clammy skin and shortness of breath, which are present in the user's observations.\n",
      "- Chapter 33 is included because it covers breathing problems, which are noted in the query as shallow breathing at times, indicating a potential respiratory issue that could be related to the overall condition.\n",
      "\n",
      "Processing entry 17/35\n"
     ]
    },
    {
     "data": {
      "text/plain": [
       "'🔍 RAG retrieval candidates:'"
      ]
     },
     "metadata": {},
     "output_type": "display_data"
    },
    {
     "data": {
      "text/plain": [
       "['36 Uncertain / unidentified problem',\n",
       " '33 Breathing problems',\n",
       " '35 Pain in the abdomen / back / extremities',\n",
       " '11 Accident / injury',\n",
       " '29 Skin / rash']"
      ]
     },
     "metadata": {},
     "output_type": "display_data"
    },
    {
     "data": {
      "text/plain": [
       "'🔍 LLM retrieval candidates:'"
      ]
     },
     "metadata": {},
     "output_type": "display_data"
    },
    {
     "data": {
      "text/plain": [
       "['19 Chest pain / cardiac disease',\n",
       " '33 Breathing problems',\n",
       " '05 Mental health issue',\n",
       " '36 Uncertain / unidentified problem',\n",
       " '22 Fever / infection / sepsis']"
      ]
     },
     "metadata": {},
     "output_type": "display_data"
    },
    {
     "name": "stdout",
     "output_type": "stream",
     "text": [
      "🔍 Chain of Thought (CoT):\n",
      "- Chapter 19 (chest pain, cardiac disease) is highly relevant due to the observations of the person clutching their upper torso, which may indicate chest pain, a common symptom of cardiac issues.\n",
      "- Chapter 33 (breathing problems) is pertinent as the individual is experiencing shallow and labored breathing, which could signify respiratory distress or complications related to their condition.\n",
      "- Chapter 05 (mental health issue) is considered because the person appears uneasy and is struggling quietly, which may suggest underlying anxiety or stress that could be affecting their physical state.\n",
      "- Chapter 36 (uncertain, unidentified problem) is included due to the unclear cause of the symptoms, making it necessary to consider a broad range of potential issues that are not immediately identifiable.\n",
      "- Chapter 22 (fever, infection, sepsis) is relevant as the faint sheen of sweat and increasing pallor could indicate a systemic issue such as infection or sepsis, which may not be immediately apparent.\n",
      "\n"
     ]
    },
    {
     "data": {
      "text/plain": [
       "'🔍 Final selected chapters:'"
      ]
     },
     "metadata": {},
     "output_type": "display_data"
    },
    {
     "data": {
      "text/plain": [
       "['19 Chest pain / cardiac disease',\n",
       " '33 Breathing problems',\n",
       " '36 Uncertain / unidentified problem',\n",
       " '22 Fever / infection / sepsis',\n",
       " '05 Mental health issue']"
      ]
     },
     "metadata": {},
     "output_type": "display_data"
    },
    {
     "name": "stdout",
     "output_type": "stream",
     "text": [
      "🔍 Final Chain of Thought (CoT): \n",
      "- Chapter 19 (chest pain, cardiac disease) is highly relevant due to the observations of the person clutching their upper torso, shallow and labored breathing, and looking pale, which are indicative of potential cardiac issues.\n",
      "- Chapter 33 (breathing problems) is also pertinent as the individual is experiencing shallow and labored breathing, which aligns with symptoms of significant difficulty breathing and anxiety.\n",
      "- Chapter 36 (uncertain, unidentified problem) is relevant because the cause of the symptoms is unclear, and the observations suggest a serious underlying issue that is not immediately identifiable.\n",
      "- Chapter 22 (fever, infection, sepsis) is considered due to the faint sheen of sweat and the person's overall unwell appearance, which could indicate an infection or systemic issue, although fever is not explicitly mentioned.\n",
      "- Chapter 05 (mental health issue) is included as a possibility since the person appears uneasy and struggling quietly, which could suggest underlying anxiety or stress, although it is less directly related than the other chapters.\n",
      "\n",
      "Processing entry 18/35\n"
     ]
    },
    {
     "data": {
      "text/plain": [
       "'🔍 RAG retrieval candidates:'"
      ]
     },
     "metadata": {},
     "output_type": "display_data"
    },
    {
     "data": {
      "text/plain": [
       "['36 Uncertain / unidentified problem',\n",
       " '24 Functional decline',\n",
       " '33 Breathing problems',\n",
       " '27 Stroke symptoms',\n",
       " '20 Diabetes']"
      ]
     },
     "metadata": {},
     "output_type": "display_data"
    },
    {
     "data": {
      "text/plain": [
       "'🔍 LLM retrieval candidates:'"
      ]
     },
     "metadata": {},
     "output_type": "display_data"
    },
    {
     "data": {
      "text/plain": [
       "['05 Mental health issue',\n",
       " '24 Functional decline',\n",
       " '19 Chest pain / cardiac disease',\n",
       " '22 Fever / infection / sepsis',\n",
       " '33 Breathing problems']"
      ]
     },
     "metadata": {},
     "output_type": "display_data"
    },
    {
     "name": "stdout",
     "output_type": "stream",
     "text": [
      "🔍 Chain of Thought (CoT):\n",
      "- Chapter 05 (mental health issue): The individual's inconsistent behavior, mumbling, and uncooperative nature suggest a potential mental health issue, making this chapter highly relevant.\n",
      "- Chapter 24 (functional decline): The observations of the individual being hard to reason with and appearing on the verge of sleep indicate a possible decline in cognitive or functional status, which aligns with this chapter's focus.\n",
      "- Chapter 19 (chest pain, cardiac disease): While not explicitly mentioned, the pale and damp face could suggest underlying cardiac issues, making this chapter relevant to consider.\n",
      "- Chapter 22 (fever, infection, sepsis): The symptoms of being pale and damp could also indicate an infection or sepsis, which is relevant given the unknown cause of the condition.\n",
      "- Chapter 33 (breathing problems): Although breathing is not explicitly mentioned as an issue, the overall state of the individual could imply potential breathing difficulties, making this chapter a consideration.\n",
      "\n"
     ]
    },
    {
     "data": {
      "text/plain": [
       "'🔍 Final selected chapters:'"
      ]
     },
     "metadata": {},
     "output_type": "display_data"
    },
    {
     "data": {
      "text/plain": [
       "['36 Uncertain / unidentified problem',\n",
       " '24 Functional decline',\n",
       " '05 Mental health issue',\n",
       " '20 Diabetes',\n",
       " '22 Fever / infection / sepsis']"
      ]
     },
     "metadata": {},
     "output_type": "display_data"
    },
    {
     "name": "stdout",
     "output_type": "stream",
     "text": [
      "🔍 Final Chain of Thought (CoT): \n",
      "- Chapter 36 (uncertain, unidentified problem) is highly relevant due to the symptoms of pale, clammy skin, altered consciousness, and the unclear nature of the problem, which aligns with the individual's inconsistent behavior and signs of distress.\n",
      "- Chapter 24 (functional decline) is pertinent as it describes general unwellness, inability to perform tasks, and psychosocial issues, which could relate to the individual's uncooperative behavior and signs of fatigue.\n",
      "- Chapter 05 (mental health issue) is relevant because the individual is displaying strange behavior, confusion, and possible mood changes, which could indicate a mental health concern.\n",
      "- Chapter 20 (diabetes) is considered due to the symptoms of pale, clammy skin and possible metabolic issues, which could relate to the individual's refusal of water and signs of drowsiness.\n",
      "- Chapter 22 (fever, infection, sepsis) is included as the individual appears very unwell and could be experiencing an infection, which might explain the confusion and altered state of consciousness.\n",
      "\n",
      "Processing entry 19/35\n"
     ]
    },
    {
     "data": {
      "text/plain": [
       "'🔍 RAG retrieval candidates:'"
      ]
     },
     "metadata": {},
     "output_type": "display_data"
    },
    {
     "data": {
      "text/plain": [
       "['36 Uncertain / unidentified problem',\n",
       " '24 Functional decline',\n",
       " '33 Breathing problems',\n",
       " '31 Hypothermia / cold person',\n",
       " '16 Child / infant - illness']"
      ]
     },
     "metadata": {},
     "output_type": "display_data"
    },
    {
     "data": {
      "text/plain": [
       "'🔍 LLM retrieval candidates:'"
      ]
     },
     "metadata": {},
     "output_type": "display_data"
    },
    {
     "data": {
      "text/plain": [
       "['03 Unconscious / decreased level of consciousness, breathing normally',\n",
       " '30 Hyperthermia / heat stroke / heat exhaustion',\n",
       " '22 Fever / infection / sepsis',\n",
       " '34 Drug abuse / intoxication / overdose',\n",
       " '36 Uncertain / unidentified problem']"
      ]
     },
     "metadata": {},
     "output_type": "display_data"
    },
    {
     "name": "stdout",
     "output_type": "stream",
     "text": [
      "🔍 Chain of Thought (CoT):\n",
      "- Chapter 03 is relevant because the person is described as barely responsive and has a decreased level of consciousness, which aligns with the symptoms of unconsciousness or altered consciousness.\n",
      "- Chapter 30 is pertinent due to the shivering and the skin appearing blotchy, which could indicate hyperthermia or heat-related issues, especially since the person is in a warm room.\n",
      "- Chapter 22 is relevant as the symptoms of weakness, confusion, and shivering could suggest an underlying infection or sepsis, particularly given the rapid worsening of the condition.\n",
      "- Chapter 34 is included because the person's confusion and inability to articulate pain could suggest a possible drug-related issue, even if the cause is unclear.\n",
      "- Chapter 36 is selected due to the uncertainty of the cause and the presence of multiple concerning symptoms that do not fit neatly into other categories, indicating an unidentified problem.\n",
      "\n"
     ]
    },
    {
     "data": {
      "text/plain": [
       "'🔍 Final selected chapters:'"
      ]
     },
     "metadata": {},
     "output_type": "display_data"
    },
    {
     "data": {
      "text/plain": [
       "['36 Uncertain / unidentified problem',\n",
       " '24 Functional decline',\n",
       " '31 Hypothermia / cold person',\n",
       " '22 Fever / infection / sepsis',\n",
       " '33 Breathing problems']"
      ]
     },
     "metadata": {},
     "output_type": "display_data"
    },
    {
     "name": "stdout",
     "output_type": "stream",
     "text": [
      "🔍 Final Chain of Thought (CoT): \n",
      "- Chapter 36 is highly relevant due to the symptoms of sudden onset loss of consciousness and decreasing responsiveness, which aligns with the user's observation of the person being unusually quiet and weak, and occasionally unresponsive.\n",
      "- Chapter 24 addresses functional decline, which is pertinent given the rapid worsening of the person's condition over the last day, as well as their inability to communicate effectively and signs of weakness.\n",
      "- Chapter 31 discusses hypothermia, which could explain the shivering and weakness despite being in a warm room, as well as the blotchy skin that fades and reappears, suggesting possible circulatory issues.\n",
      "- Chapter 22 covers fever and infection, which could be a potential underlying cause of the symptoms described, such as confusion, weakness, and the overall unwell state of the individual.\n",
      "- Chapter 33 focuses on breathing problems, which is relevant given the uneven breathing patterns observed, indicating potential respiratory distress or anxiety.\n",
      "\n",
      "Processing entry 20/35\n"
     ]
    },
    {
     "data": {
      "text/plain": [
       "'🔍 RAG retrieval candidates:'"
      ]
     },
     "metadata": {},
     "output_type": "display_data"
    },
    {
     "data": {
      "text/plain": [
       "['36 Uncertain / unidentified problem',\n",
       " '33 Breathing problems',\n",
       " '04 Choking / foreign object',\n",
       " '08 Drowning',\n",
       " '27 Stroke symptoms']"
      ]
     },
     "metadata": {},
     "output_type": "display_data"
    },
    {
     "data": {
      "text/plain": [
       "'🔍 LLM retrieval candidates:'"
      ]
     },
     "metadata": {},
     "output_type": "display_data"
    },
    {
     "data": {
      "text/plain": [
       "['23 Poisoning - not related to alcohol or drugs',\n",
       " '10 Chemicals / gasses / CBRN',\n",
       " '04 Choking / foreign object',\n",
       " '03 Unconscious / decreased level of consciousness, breathing normally',\n",
       " '19 Chest pain / cardiac disease']"
      ]
     },
     "metadata": {},
     "output_type": "display_data"
    },
    {
     "name": "stdout",
     "output_type": "stream",
     "text": [
      "🔍 Chain of Thought (CoT):\n",
      "- Chapter 23 (poisoning - not related to alcohol or drugs) is highly relevant due to the mention of an unknown substance exposure and the individual's symptoms, which suggest possible poisoning.\n",
      "- Chapter 10 (chemicals, gasses, cbrn) is pertinent because of the faint, unusual smell and the potential for chemical exposure, aligning with the observations of the individual's condition.\n",
      "- Chapter 04 (choking, foreign object) is relevant as the individual is clutching their throat, indicating a possible obstruction or choking incident, which could be related to the unknown substance.\n",
      "- Chapter 03 (unconscious, decreased level of consciousness, breathing normally) is applicable since the individual is described as sluggish and drifting in and out of focus, suggesting a decreased level of consciousness.\n",
      "- Chapter 19 (chest pain, cardiac disease) is included because the symptoms of sweating and pale appearance could also indicate a cardiac issue, although this is less directly supported by the observations than the other chapters.\n",
      "\n"
     ]
    },
    {
     "data": {
      "text/plain": [
       "'🔍 Final selected chapters:'"
      ]
     },
     "metadata": {},
     "output_type": "display_data"
    },
    {
     "data": {
      "text/plain": [
       "['10 Chemicals / gasses / CBRN',\n",
       " '23 Poisoning - not related to alcohol or drugs',\n",
       " '33 Breathing problems',\n",
       " '36 Uncertain / unidentified problem',\n",
       " '04 Choking / foreign object']"
      ]
     },
     "metadata": {},
     "output_type": "display_data"
    },
    {
     "name": "stdout",
     "output_type": "stream",
     "text": [
      "🔍 Final Chain of Thought (CoT): \n",
      "- Chapter 10 is highly relevant due to the mention of exposure to an unknown substance, which aligns with symptoms of chemical or gas exposure, including unconsciousness and severe shortness of breath.\n",
      "- Chapter 23 is pertinent as it addresses poisoning from corrosive substances, which could explain the individual's pale appearance, sweating, and difficulty swallowing, especially given the presence of a suspicious container.\n",
      "- Chapter 33 is relevant because it discusses breathing problems, which could relate to the individual's difficulty in speech and the sensation of something feeling stuck in their throat.\n",
      "- Chapter 36 is applicable as it covers uncertain or unidentified problems, which fits the scenario of an unknown cause and the observed symptoms of decreased consciousness and pale, clammy skin.\n",
      "- Chapter 04 is included because the individual is clutching their throat, suggesting a possible airway blockage, which is a critical concern in choking scenarios, especially with the presence of a foreign object or substance.\n",
      "\n",
      "Processing entry 21/35\n"
     ]
    },
    {
     "data": {
      "text/plain": [
       "'🔍 RAG retrieval candidates:'"
      ]
     },
     "metadata": {},
     "output_type": "display_data"
    },
    {
     "data": {
      "text/plain": [
       "['36 Uncertain / unidentified problem',\n",
       " '24 Functional decline',\n",
       " '33 Breathing problems',\n",
       " '16 Child / infant - illness',\n",
       " '29 Skin / rash']"
      ]
     },
     "metadata": {},
     "output_type": "display_data"
    },
    {
     "data": {
      "text/plain": [
       "'🔍 LLM retrieval candidates:'"
      ]
     },
     "metadata": {},
     "output_type": "display_data"
    },
    {
     "data": {
      "text/plain": [
       "['24 Functional decline',\n",
       " '05 Mental health issue',\n",
       " '03 Unconscious / decreased level of consciousness, breathing normally',\n",
       " '19 Chest pain / cardiac disease',\n",
       " '22 Fever / infection / sepsis']"
      ]
     },
     "metadata": {},
     "output_type": "display_data"
    },
    {
     "name": "stdout",
     "output_type": "stream",
     "text": [
      "🔍 Chain of Thought (CoT):\n",
      "- Chapter 24 (functional decline) is highly relevant as the person is described as weaker than usual, less responsive, and having trouble completing simple tasks, indicating a decline in their functional abilities.\n",
      "- Chapter 05 (mental health issue) is pertinent because the person's unsettled demeanor and hesitance may suggest underlying mental health concerns, especially given the unclear cause of their condition.\n",
      "- Chapter 03 (unconscious, decreased level of consciousness) is relevant due to the observed decreased responsiveness and slower reactions, which may indicate a level of altered consciousness.\n",
      "- Chapter 19 (chest pain, cardiac disease) is included as a consideration since the symptoms could potentially relate to cardiac issues, especially with the faint sweat observed, although this is less certain given the lack of direct mention of chest pain.\n",
      "- Chapter 22 (fever, infection, sepsis) is relevant as the symptoms could suggest an underlying infection or systemic issue, particularly with the gradual worsening over days and the presence of sweat, which may indicate a fever.\n",
      "\n"
     ]
    },
    {
     "data": {
      "text/plain": [
       "'🔍 Final selected chapters:'"
      ]
     },
     "metadata": {},
     "output_type": "display_data"
    },
    {
     "data": {
      "text/plain": [
       "['24 Functional decline',\n",
       " '36 Uncertain / unidentified problem',\n",
       " '05 Mental health issue',\n",
       " '22 Fever / infection / sepsis',\n",
       " '19 Chest pain / cardiac disease']"
      ]
     },
     "metadata": {},
     "output_type": "display_data"
    },
    {
     "name": "stdout",
     "output_type": "stream",
     "text": [
      "🔍 Final Chain of Thought (CoT): \n",
      "- Chapter 24 (functional decline) is highly relevant due to the observed general unwellness, hesitance in movements, and inability to perform simple tasks, which aligns with the symptoms of functional decline.\n",
      "- Chapter 36 (uncertain, unidentified problem) is pertinent as the cause of the person's condition is unclear, and the symptoms of pale, clammy skin and decreased responsiveness match the chapter's focus on unidentified issues.\n",
      "- Chapter 05 (mental health issue) is relevant because the person's unsettled demeanor and confusion about their surroundings could indicate a deterioration in mental health, which is a key symptom in this chapter.\n",
      "- Chapter 22 (fever, infection, sepsis) is considered due to the faint sweat on the forehead, which may suggest an underlying infection or fever, even though it is not explicitly stated in the observations.\n",
      "- Chapter 19 (chest pain, cardiac disease) is included as a consideration because the symptoms of weakness and decreased responsiveness could potentially relate to cardiac issues, although this is less directly supported by the observations.\n",
      "\n",
      "Processing entry 22/35\n"
     ]
    },
    {
     "data": {
      "text/plain": [
       "'🔍 RAG retrieval candidates:'"
      ]
     },
     "metadata": {},
     "output_type": "display_data"
    },
    {
     "data": {
      "text/plain": [
       "['36 Uncertain / unidentified problem',\n",
       " '33 Breathing problems',\n",
       " '24 Functional decline',\n",
       " '26 Gynecology / pregnancy',\n",
       " '28 Headache']"
      ]
     },
     "metadata": {},
     "output_type": "display_data"
    },
    {
     "data": {
      "text/plain": [
       "'🔍 LLM retrieval candidates:'"
      ]
     },
     "metadata": {},
     "output_type": "display_data"
    },
    {
     "data": {
      "text/plain": [
       "['35 Pain in the abdomen / back / extremities',\n",
       " '22 Fever / infection / sepsis',\n",
       " '06 Mental health crisis - suicide risk',\n",
       " '19 Chest pain / cardiac disease',\n",
       " '34 Drug abuse / intoxication / overdose']"
      ]
     },
     "metadata": {},
     "output_type": "display_data"
    },
    {
     "name": "stdout",
     "output_type": "stream",
     "text": [
      "🔍 Chain of Thought (CoT):\n",
      "- Chapter 35 (pain in the abdomen, back, extremities) is highly relevant due to the woman's intermittent clutching of her abdomen and groans, indicating possible abdominal pain or discomfort.\n",
      "- Chapter 22 (fever, infection, sepsis) is relevant as the sweating and restlessness could suggest an underlying infection or systemic issue, especially if accompanied by fever.\n",
      "- Chapter 06 (mental health crisis - suicide risk) is considered due to the woman's uneasy and tense demeanor, which may indicate significant emotional distress or a mental health crisis, although this is less certain.\n",
      "- Chapter 19 (chest pain, cardiac disease) is included as the rapid breathing and internal struggle could potentially relate to cardiac issues, though this is more speculative given the abdominal focus.\n",
      "- Chapter 34 (drug abuse, intoxication, overdose) is relevant as the symptoms could also suggest a reaction to substances, especially if the cause remains unclear and the woman is exhibiting unusual behavior.\n",
      "\n"
     ]
    },
    {
     "data": {
      "text/plain": [
       "'🔍 Final selected chapters:'"
      ]
     },
     "metadata": {},
     "output_type": "display_data"
    },
    {
     "data": {
      "text/plain": [
       "['35 Pain in the abdomen / back / extremities',\n",
       " '24 Functional decline',\n",
       " '34 Drug abuse / intoxication / overdose',\n",
       " '36 Uncertain / unidentified problem',\n",
       " '22 Fever / infection / sepsis']"
      ]
     },
     "metadata": {},
     "output_type": "display_data"
    },
    {
     "name": "stdout",
     "output_type": "stream",
     "text": [
      "🔍 Final Chain of Thought (CoT): \n",
      "- Chapter 35 is highly relevant due to the symptoms of moderate to severe abdominal pain, which aligns with the woman's intermittent clutching of her abdomen and groans.\n",
      "- Chapter 24 addresses functional decline, which could relate to the woman's uneasy and tense demeanor, as well as her restless shifting and signs of distress.\n",
      "- Chapter 34 discusses drug abuse, intoxication, and overdose, which could explain the woman's symptoms if there is an underlying issue related to substance use, especially given the unclear cause.\n",
      "- Chapter 36 covers uncertain or unidentified problems, which is pertinent since the cause of the woman's condition is unknown, and she exhibits signs of being unwell and frail.\n",
      "- Chapter 22, while primarily focused on fever and infection, could still be relevant if the woman's symptoms are indicative of an underlying infection, especially considering her sweating and general unease.\n",
      "\n",
      "Processing entry 23/35\n"
     ]
    },
    {
     "data": {
      "text/plain": [
       "'🔍 RAG retrieval candidates:'"
      ]
     },
     "metadata": {},
     "output_type": "display_data"
    },
    {
     "data": {
      "text/plain": [
       "['36 Uncertain / unidentified problem',\n",
       " '27 Stroke symptoms',\n",
       " '28 Headache',\n",
       " '24 Functional decline',\n",
       " '33 Breathing problems']"
      ]
     },
     "metadata": {},
     "output_type": "display_data"
    },
    {
     "data": {
      "text/plain": [
       "'🔍 LLM retrieval candidates:'"
      ]
     },
     "metadata": {},
     "output_type": "display_data"
    },
    {
     "data": {
      "text/plain": [
       "['35 Pain in the abdomen / back / extremities',\n",
       " '22 Fever / infection / sepsis',\n",
       " '32 Seizures (convulsions, fits)',\n",
       " '36 Uncertain / unidentified problem',\n",
       " '19 Chest pain / cardiac disease']"
      ]
     },
     "metadata": {},
     "output_type": "display_data"
    },
    {
     "name": "stdout",
     "output_type": "stream",
     "text": [
      "🔍 Chain of Thought (CoT):\n",
      "- Chapter 35 (pain in the abdomen, back, extremities) is relevant due to the reported pain and nausea, which could indicate an abdominal issue.\n",
      "- Chapter 22 (fever, infection, sepsis) is pertinent because the dampness on her forehead may suggest a fever, and her disorientation could be a sign of infection or sepsis.\n",
      "- Chapter 32 (seizures - convulsions, fits) is considered due to the twitching of her hands, which may indicate seizure activity or neurological issues.\n",
      "- Chapter 36 (uncertain, unidentified problem) is included because the cause of her symptoms is unclear, and this chapter addresses situations where the problem is not easily identifiable.\n",
      "- Chapter 19 (chest pain, cardiac disease) is relevant as disorientation and uneven breathing could also be linked to cardiac issues, although it is less directly indicated than the other chapters.\n",
      "\n"
     ]
    },
    {
     "data": {
      "text/plain": [
       "'🔍 Final selected chapters:'"
      ]
     },
     "metadata": {},
     "output_type": "display_data"
    },
    {
     "data": {
      "text/plain": [
       "['36 Uncertain / unidentified problem',\n",
       " '22 Fever / infection / sepsis',\n",
       " '33 Breathing problems',\n",
       " '28 Headache',\n",
       " '19 Chest pain / cardiac disease']"
      ]
     },
     "metadata": {},
     "output_type": "display_data"
    },
    {
     "name": "stdout",
     "output_type": "stream",
     "text": [
      "🔍 Final Chain of Thought (CoT): \n",
      "- Chapter 36 (uncertain, unidentified problem) is highly relevant due to the patient's sudden onset of disorientation, dampness on the forehead, and difficulty communicating, which aligns with the symptoms of an unclear problem and decreasing consciousness.\n",
      "- Chapter 22 (fever, infection, sepsis) is pertinent because the patient appears unwell, has a damp forehead, and may be experiencing signs of infection, which could explain her disorientation and other symptoms.\n",
      "- Chapter 33 (breathing problems) is relevant as the patient's uneven breathing and potential anxiety could indicate a respiratory issue, which is critical given her overall condition.\n",
      "- Chapter 28 (headache) is considered due to the squinting and possible light sensitivity, which may suggest a headache or neurological issue, especially in conjunction with her disorientation.\n",
      "- Chapter 19 (chest pain, cardiac disease) is included as a consideration because the symptoms of discomfort and potential pain could relate to cardiac issues, although less directly than the other chapters.\n",
      "\n",
      "Processing entry 24/35\n"
     ]
    },
    {
     "data": {
      "text/plain": [
       "'🔍 RAG retrieval candidates:'"
      ]
     },
     "metadata": {},
     "output_type": "display_data"
    },
    {
     "data": {
      "text/plain": [
       "['27 Stroke symptoms',\n",
       " '36 Uncertain / unidentified problem',\n",
       " '24 Functional decline',\n",
       " '28 Headache',\n",
       " '33 Breathing problems']"
      ]
     },
     "metadata": {},
     "output_type": "display_data"
    },
    {
     "data": {
      "text/plain": [
       "'🔍 LLM retrieval candidates:'"
      ]
     },
     "metadata": {},
     "output_type": "display_data"
    },
    {
     "data": {
      "text/plain": [
       "['27 Stroke symptoms',\n",
       " '03 Unconscious / decreased level of consciousness, breathing normally',\n",
       " '05 Mental health issue',\n",
       " '32 Seizures (convulsions, fits)',\n",
       " '28 Headache']"
      ]
     },
     "metadata": {},
     "output_type": "display_data"
    },
    {
     "name": "stdout",
     "output_type": "stream",
     "text": [
      "🔍 Chain of Thought (CoT):\n",
      "- Chapter 27 (stroke symptoms) is highly relevant due to the sudden change in responsiveness, confusion, and facial asymmetry, which are classic signs of a stroke.\n",
      "- Chapter 03 (unconscious, decreased level of consciousness, breathing normally) is pertinent as the person is less responsive and drifting in and out of awareness, indicating a decreased level of consciousness.\n",
      "- Chapter 05 (mental health issue) is considered because confusion and difficulty in communication can also be related to mental health problems, although this is less likely given the physical symptoms.\n",
      "- Chapter 32 (seizures) is relevant as the observed slow and uncoordinated movements could suggest postictal state or seizure activity, especially with the confusion.\n",
      "- Chapter 28 (headache) is included because the person mentions a faint headache, which could be a symptom associated with the other observed issues.\n",
      "\n"
     ]
    },
    {
     "data": {
      "text/plain": [
       "'🔍 Final selected chapters:'"
      ]
     },
     "metadata": {},
     "output_type": "display_data"
    },
    {
     "data": {
      "text/plain": [
       "['27 Stroke symptoms',\n",
       " '32 Seizures (convulsions, fits)',\n",
       " '36 Uncertain / unidentified problem',\n",
       " '05 Mental health issue',\n",
       " '24 Functional decline']"
      ]
     },
     "metadata": {},
     "output_type": "display_data"
    },
    {
     "name": "stdout",
     "output_type": "stream",
     "text": [
      "🔍 Final Chain of Thought (CoT): \n",
      "- Chapter 27 (stroke symptoms) is highly relevant due to the sudden change in the person's responsiveness, confusion, and the asymmetrical appearance of their face, which are classic signs of a stroke.\n",
      "- Chapter 32 (seizures) is pertinent because the individual is drifting in and out of awareness, which could indicate postictal confusion following a seizure, especially given the mention of a faint headache.\n",
      "- Chapter 36 (uncertain, unidentified problem) fits the scenario as the cause of the symptoms is unclear, and the person exhibits signs of decreased consciousness and unresponsiveness, which aligns with the chapter's focus on vague and sudden health issues.\n",
      "- Chapter 05 (mental health issue) is relevant as the confusion and difficulty in forming coherent sentences could suggest a mental health crisis, although this is less likely given the physical symptoms observed.\n",
      "- Chapter 24 (functional decline) is included because the individual shows signs of general unwellness and decreased ability to perform normal functions, which could be related to the sudden onset of their symptoms.\n",
      "\n",
      "Processing entry 25/35\n"
     ]
    },
    {
     "data": {
      "text/plain": [
       "'🔍 RAG retrieval candidates:'"
      ]
     },
     "metadata": {},
     "output_type": "display_data"
    },
    {
     "data": {
      "text/plain": [
       "['36 Uncertain / unidentified problem',\n",
       " '33 Breathing problems',\n",
       " '27 Stroke symptoms',\n",
       " '24 Functional decline',\n",
       " '28 Headache']"
      ]
     },
     "metadata": {},
     "output_type": "display_data"
    },
    {
     "data": {
      "text/plain": [
       "'🔍 LLM retrieval candidates:'"
      ]
     },
     "metadata": {},
     "output_type": "display_data"
    },
    {
     "data": {
      "text/plain": [
       "['32 Seizures (convulsions, fits)',\n",
       " '28 Headache',\n",
       " '19 Chest pain / cardiac disease',\n",
       " '22 Fever / infection / sepsis',\n",
       " '30 Hyperthermia / heat stroke / heat exhaustion']"
      ]
     },
     "metadata": {},
     "output_type": "display_data"
    },
    {
     "name": "stdout",
     "output_type": "stream",
     "text": [
      "🔍 Chain of Thought (CoT):\n",
      "- Chapter 32 (seizures): The person is experiencing dizziness, wincing, and clutching their head, which could indicate a seizure or pre-seizure activity, making this chapter highly relevant.\n",
      "- Chapter 28 (headache): The symptoms of wincing and clutching the head suggest a possible headache or migraine, especially given the avoidance of bright lights and the pale, sweaty appearance.\n",
      "- Chapter 19 (chest pain, cardiac disease): Although not directly indicated, the combination of symptoms could suggest a cardiac issue, especially if the dizziness is related to a cardiovascular event.\n",
      "- Chapter 22 (fever, infection, sepsis): The pale and sweaty appearance could indicate an underlying infection or fever, which may explain the sudden onset of symptoms.\n",
      "- Chapter 30 (hyperthermia, heat stroke, heat exhaustion): If the physical effort or stress was significant, this could lead to heat-related illnesses, which align with the symptoms of sweating and feeling unwell.\n",
      "\n"
     ]
    },
    {
     "data": {
      "text/plain": [
       "'🔍 Final selected chapters:'"
      ]
     },
     "metadata": {},
     "output_type": "display_data"
    },
    {
     "data": {
      "text/plain": [
       "['28 Headache',\n",
       " '33 Breathing problems',\n",
       " '24 Functional decline',\n",
       " '36 Uncertain / unidentified problem',\n",
       " '30 Hyperthermia / heat stroke / heat exhaustion']"
      ]
     },
     "metadata": {},
     "output_type": "display_data"
    },
    {
     "name": "stdout",
     "output_type": "stream",
     "text": [
      "🔍 Final Chain of Thought (CoT): \n",
      "- Chapter 28 (headache) is highly relevant due to the symptoms of clutching the head, avoiding bright lights, and the description of a pale and sweaty face, which align with signs of a headache or migraine.\n",
      "- Chapter 33 (breathing problems) is pertinent as the person is experiencing uneven breathing, which could indicate anxiety or a respiratory issue, even if it is not labored.\n",
      "- Chapter 24 (functional decline) is relevant because the person seems out of sorts and unable to perform normal activities, which could indicate a decline in their functional status, especially after physical effort or stress.\n",
      "- Chapter 36 (uncertain, unidentified problem) is applicable since the cause of the symptoms is unclear, and the individual is exhibiting signs of being unwell and frail, which fits the description of an unidentified problem.\n",
      "- Chapter 30 (hyperthermia, heat stroke, heat exhaustion) is included as the symptoms of feeling dizzy, weak, and unwell could suggest heat-related issues, especially if the physical effort was in a hot environment.\n",
      "\n",
      "Processing entry 26/35\n"
     ]
    },
    {
     "data": {
      "text/plain": [
       "'🔍 RAG retrieval candidates:'"
      ]
     },
     "metadata": {},
     "output_type": "display_data"
    },
    {
     "data": {
      "text/plain": [
       "['29 Skin / rash',\n",
       " '36 Uncertain / unidentified problem',\n",
       " '33 Breathing problems',\n",
       " '15 Allergic reaction',\n",
       " '24 Functional decline']"
      ]
     },
     "metadata": {},
     "output_type": "display_data"
    },
    {
     "data": {
      "text/plain": [
       "'🔍 LLM retrieval candidates:'"
      ]
     },
     "metadata": {},
     "output_type": "display_data"
    },
    {
     "data": {
      "text/plain": [
       "['22 Fever / infection / sepsis',\n",
       " '19 Chest pain / cardiac disease',\n",
       " '32 Seizures (convulsions, fits)',\n",
       " '30 Hyperthermia / heat stroke / heat exhaustion',\n",
       " '18 Bleeding - non-traumatic']"
      ]
     },
     "metadata": {},
     "output_type": "display_data"
    },
    {
     "name": "stdout",
     "output_type": "stream",
     "text": [
      "🔍 Chain of Thought (CoT):\n",
      "- Chapter 22 (fever, infection, sepsis): The symptoms of unresponsiveness, clammy skin, and patchy discoloration could indicate an infection or sepsis, making this chapter highly relevant.\n",
      "- Chapter 19 (chest pain, cardiac disease): The dull ache beneath the surface and difficulty in breathing could suggest a cardiac issue, which is pertinent to the observations.\n",
      "- Chapter 32 (seizures - convulsions, fits): The unresponsiveness and stiffness in the neck area may indicate a neurological issue, such as seizures, which aligns with the symptoms described.\n",
      "- Chapter 30 (hyperthermia, heat stroke, heat exhaustion): The faint warmth and clammy skin could suggest a heat-related illness, making this chapter relevant to the observations.\n",
      "- Chapter 18 (bleeding - non-traumatic): The patchy discoloration that does not change when pressed could indicate a bleeding issue, which is important to consider given the unknown cause.\n",
      "\n"
     ]
    },
    {
     "data": {
      "text/plain": [
       "'🔍 Final selected chapters:'"
      ]
     },
     "metadata": {},
     "output_type": "display_data"
    },
    {
     "data": {
      "text/plain": [
       "['36 Uncertain / unidentified problem',\n",
       " '33 Breathing problems',\n",
       " '22 Fever / infection / sepsis',\n",
       " '29 Skin / rash',\n",
       " '30 Hyperthermia / heat stroke / heat exhaustion']"
      ]
     },
     "metadata": {},
     "output_type": "display_data"
    },
    {
     "name": "stdout",
     "output_type": "stream",
     "text": [
      "🔍 Final Chain of Thought (CoT): \n",
      "- Chapter 36 (uncertain, unidentified problem) is highly relevant due to the unclear cause of the symptoms, including the unresponsiveness and skin discoloration, which aligns with the chapter's focus on sudden onset and unclear problems.\n",
      "- Chapter 33 (breathing problems) is pertinent as the user mentions difficulty breathing, which is a key symptom in this chapter, along with the pale clammy skin observed.\n",
      "- Chapter 22 (fever, infection, sepsis) is relevant because the symptoms of feeling unwell, potential infection signs, and the dull ache could indicate an underlying infection or sepsis, especially with the mention of neck stiffness.\n",
      "- Chapter 29 (skin, rash) is included due to the patchy discoloration across the skin and complaints of pain beneath the surface, suggesting a possible skin condition or reaction.\n",
      "- Chapter 30 (hyperthermia, heat stroke, heat exhaustion) is considered because of the faint warmth spreading and the overall unwellness, which could indicate heat-related issues, although this is less directly supported by the other symptoms.\n",
      "\n",
      "Processing entry 27/35\n"
     ]
    },
    {
     "data": {
      "text/plain": [
       "'🔍 RAG retrieval candidates:'"
      ]
     },
     "metadata": {},
     "output_type": "display_data"
    },
    {
     "data": {
      "text/plain": [
       "['33 Breathing problems',\n",
       " '36 Uncertain / unidentified problem',\n",
       " '27 Stroke symptoms',\n",
       " '24 Functional decline',\n",
       " '08 Drowning']"
      ]
     },
     "metadata": {},
     "output_type": "display_data"
    },
    {
     "data": {
      "text/plain": [
       "'🔍 LLM retrieval candidates:'"
      ]
     },
     "metadata": {},
     "output_type": "display_data"
    },
    {
     "data": {
      "text/plain": [
       "['30 Hyperthermia / heat stroke / heat exhaustion',\n",
       " '31 Hypothermia / cold person',\n",
       " '03 Unconscious / decreased level of consciousness, breathing normally',\n",
       " '22 Fever / infection / sepsis',\n",
       " '19 Chest pain / cardiac disease']"
      ]
     },
     "metadata": {},
     "output_type": "display_data"
    },
    {
     "name": "stdout",
     "output_type": "stream",
     "text": [
      "🔍 Chain of Thought (CoT):\n",
      "- Chapter 30 (hyperthermia, heat stroke, heat exhaustion) is highly relevant due to the observations of flushed skin, uneven breathing, and the context of prolonged outdoor exposure to strong sunlight, which can lead to heat-related illnesses.\n",
      "- Chapter 31 (hypothermia, cold person) is included as a consideration because the symptoms of sluggishness and disorientation could also relate to temperature regulation issues, although the context suggests heat is more likely.\n",
      "- Chapter 03 (unconscious, decreased level of consciousness, breathing normally) is relevant because the person is described as sluggish and less responsive, indicating a potential decrease in consciousness.\n",
      "- Chapter 22 (fever, infection, sepsis) is relevant due to the flushed skin and warm touch, which could indicate a fever or infection, especially in the context of recent physical activity.\n",
      "- Chapter 19 (chest pain, cardiac disease) is included because the fast pulse and uneven breathing could suggest underlying cardiac issues, although this is less directly supported by the observations.\n",
      "\n"
     ]
    },
    {
     "data": {
      "text/plain": [
       "'🔍 Final selected chapters:'"
      ]
     },
     "metadata": {},
     "output_type": "display_data"
    },
    {
     "data": {
      "text/plain": [
       "['30 Hyperthermia / heat stroke / heat exhaustion',\n",
       " '31 Hypothermia / cold person',\n",
       " '22 Fever / infection / sepsis',\n",
       " '33 Breathing problems',\n",
       " '24 Functional decline']"
      ]
     },
     "metadata": {},
     "output_type": "display_data"
    },
    {
     "name": "stdout",
     "output_type": "stream",
     "text": [
      "🔍 Final Chain of Thought (CoT): \n",
      "- Chapter 30 (hyperthermia, heat stroke, heat exhaustion) is highly relevant due to the user's mention of prolonged time outdoors under strong sunlight, which aligns with symptoms of heat-related illnesses such as drowsiness, weakness, and rapid pulse.\n",
      "- Chapter 31 (hypothermia, cold person) is included as a consideration for the flushed and warm skin, although it typically relates to cold exposure; the symptoms of exhaustion and drowsiness could still apply in a contrasting context.\n",
      "- Chapter 22 (fever, infection, sepsis) is relevant because the symptoms of feeling unwell, flushed skin, and disorientation could indicate an infection or systemic response, especially if the cause remains unclear.\n",
      "- Chapter 33 (breathing problems) is pertinent due to the uneven breathing pattern described, which could indicate respiratory distress or anxiety, both of which can be exacerbated by heat or exertion.\n",
      "- Chapter 24 (functional decline) is included as it addresses general unwellness and altered consciousness, which aligns with the user's observations of sluggishness and decreased responsiveness.\n",
      "\n",
      "Processing entry 28/35\n"
     ]
    },
    {
     "data": {
      "text/plain": [
       "'🔍 RAG retrieval candidates:'"
      ]
     },
     "metadata": {},
     "output_type": "display_data"
    },
    {
     "data": {
      "text/plain": [
       "['29 Skin / rash',\n",
       " '36 Uncertain / unidentified problem',\n",
       " '24 Functional decline',\n",
       " '33 Breathing problems',\n",
       " '16 Child / infant - illness']"
      ]
     },
     "metadata": {},
     "output_type": "display_data"
    },
    {
     "data": {
      "text/plain": [
       "'🔍 LLM retrieval candidates:'"
      ]
     },
     "metadata": {},
     "output_type": "display_data"
    },
    {
     "data": {
      "text/plain": [
       "['31 Hypothermia / cold person',\n",
       " '30 Hyperthermia / heat stroke / heat exhaustion',\n",
       " '03 Unconscious / decreased level of consciousness, breathing normally',\n",
       " '22 Fever / infection / sepsis',\n",
       " '19 Chest pain / cardiac disease']"
      ]
     },
     "metadata": {},
     "output_type": "display_data"
    },
    {
     "name": "stdout",
     "output_type": "stream",
     "text": [
      "🔍 Chain of Thought (CoT):\n",
      "- Chapter 31 (hypothermia, cold person): The individual has been outside in cool, damp weather for a prolonged time, which aligns with symptoms of hypothermia, such as sluggishness, pale and clammy skin, and shivering.\n",
      "- Chapter 30 (hyperthermia, heat stroke, heat exhaustion): Although the individual is in cool weather, the dampness and potential for heat exhaustion due to prolonged exposure could still be relevant, especially if they were overexerted prior.\n",
      "- Chapter 03 (unconscious, decreased level of consciousness, breathing normally): The observations indicate the person is unresponsive and has faint breath sounds, which relates to decreased consciousness.\n",
      "- Chapter 22 (fever, infection, sepsis): The pale and clammy skin could suggest an underlying infection or sepsis, especially if the individual was exposed to cold and damp conditions that could lead to illness.\n",
      "- Chapter 19 (chest pain, cardiac disease): While not directly indicated, the symptoms of sluggishness and faint breath sounds could also suggest potential cardiac issues, which should be considered in a comprehensive assessment.\n",
      "\n"
     ]
    },
    {
     "data": {
      "text/plain": [
       "'🔍 Final selected chapters:'"
      ]
     },
     "metadata": {},
     "output_type": "display_data"
    },
    {
     "data": {
      "text/plain": [
       "['31 Hypothermia / cold person',\n",
       " '30 Hyperthermia / heat stroke / heat exhaustion',\n",
       " '24 Functional decline',\n",
       " '36 Uncertain / unidentified problem',\n",
       " '22 Fever / infection / sepsis']"
      ]
     },
     "metadata": {},
     "output_type": "display_data"
    },
    {
     "name": "stdout",
     "output_type": "stream",
     "text": [
      "🔍 Final Chain of Thought (CoT): \n",
      "- Chapter 31 (hypothermia, cold person) is highly relevant due to the individual's prolonged exposure to cool, damp weather, which aligns with symptoms of low body temperature, weakness, and drowsiness.\n",
      "- Chapter 30 (hyperthermia, heat stroke, heat exhaustion) is relevant as it addresses symptoms of weakness and drowsiness, although the cause is more related to heat; the faint breathing and sluggishness could suggest a heat-related issue if the environment was warm.\n",
      "- Chapter 24 (functional decline) is pertinent as it discusses general unwellness and altered consciousness, which could apply to the individual's sluggishness and unresponsiveness.\n",
      "- Chapter 36 (uncertain, unidentified problem) is relevant because the cause of the individual's condition is unclear, and it includes symptoms like pale, clammy skin and loss of consciousness, which match the observations.\n",
      "- Chapter 22 (fever, infection, sepsis) is included as it covers symptoms like weakness and confusion, which could be relevant if there is an underlying infection contributing to the individual's state, despite the primary cause being environmental exposure.\n",
      "\n",
      "Processing entry 29/35\n"
     ]
    },
    {
     "data": {
      "text/plain": [
       "'🔍 RAG retrieval candidates:'"
      ]
     },
     "metadata": {},
     "output_type": "display_data"
    },
    {
     "data": {
      "text/plain": [
       "['36 Uncertain / unidentified problem',\n",
       " '33 Breathing problems',\n",
       " '27 Stroke symptoms',\n",
       " '24 Functional decline',\n",
       " '04 Choking / foreign object']"
      ]
     },
     "metadata": {},
     "output_type": "display_data"
    },
    {
     "data": {
      "text/plain": [
       "'🔍 LLM retrieval candidates:'"
      ]
     },
     "metadata": {},
     "output_type": "display_data"
    },
    {
     "data": {
      "text/plain": [
       "['32 Seizures (convulsions, fits)',\n",
       " '03 Unconscious / decreased level of consciousness, breathing normally',\n",
       " '06 Mental health crisis - suicide risk',\n",
       " '19 Chest pain / cardiac disease',\n",
       " '34 Drug abuse / intoxication / overdose']"
      ]
     },
     "metadata": {},
     "output_type": "display_data"
    },
    {
     "name": "stdout",
     "output_type": "stream",
     "text": [
      "🔍 Chain of Thought (CoT):\n",
      "- Chapter 32 (seizures) is highly relevant due to the description of the person's limbs moving in uneven bursts and stiffening, which are characteristic of seizure activity.\n",
      "- Chapter 03 (unconsciousness) is pertinent as the person is described as unresponsive and having a decreased level of consciousness, indicating a serious condition.\n",
      "- Chapter 06 (mental health crisis - suicide risk) is considered because the cause is unclear, and sudden changes in responsiveness can sometimes be linked to mental health crises, although this is less direct.\n",
      "- Chapter 19 (chest pain, cardiac disease) is included as the pallor and unresponsiveness could suggest underlying cardiac issues, which can manifest with similar symptoms.\n",
      "- Chapter 34 (drug abuse, intoxication, overdose) is relevant since the cause is unknown, and sudden changes in behavior and consciousness can sometimes be attributed to substance use.\n",
      "\n"
     ]
    },
    {
     "data": {
      "text/plain": [
       "'🔍 Final selected chapters:'"
      ]
     },
     "metadata": {},
     "output_type": "display_data"
    },
    {
     "data": {
      "text/plain": [
       "['32 Seizures (convulsions, fits)',\n",
       " '03 Unconscious / decreased level of consciousness, breathing normally',\n",
       " '27 Stroke symptoms',\n",
       " '34 Drug abuse / intoxication / overdose',\n",
       " '36 Uncertain / unidentified problem']"
      ]
     },
     "metadata": {},
     "output_type": "display_data"
    },
    {
     "name": "stdout",
     "output_type": "stream",
     "text": [
      "🔍 Final Chain of Thought (CoT): \n",
      "- Chapter 32 (seizures) is highly relevant due to the description of the person experiencing stiffening, uneven limb movements, and moments of unresponsiveness, which are indicative of seizure activity.\n",
      "- Chapter 03 (unconscious, decreased level of consciousness) is pertinent as the person is unresponsive and has a decreased level of consciousness, aligning with the symptoms described in the chapter.\n",
      "- Chapter 27 (stroke symptoms) is relevant because the sudden onset of unsteadiness and unresponsiveness could suggest a stroke, especially with the pallor and changes in consciousness.\n",
      "- Chapter 34 (drug abuse, intoxication, overdose) is considered due to the potential for altered consciousness and unresponsiveness, which could be linked to substance use, especially given the unclear cause.\n",
      "- Chapter 36 (uncertain, unidentified problem) is included as the cause of the symptoms is unknown, and the symptoms of pallor and decreased consciousness fit the chapter's description of an unclear medical issue.\n",
      "\n",
      "Processing entry 30/35\n"
     ]
    },
    {
     "data": {
      "text/plain": [
       "'🔍 RAG retrieval candidates:'"
      ]
     },
     "metadata": {},
     "output_type": "display_data"
    },
    {
     "data": {
      "text/plain": [
       "['33 Breathing problems',\n",
       " '36 Uncertain / unidentified problem',\n",
       " '27 Stroke symptoms',\n",
       " '24 Functional decline',\n",
       " '29 Skin / rash']"
      ]
     },
     "metadata": {},
     "output_type": "display_data"
    },
    {
     "data": {
      "text/plain": [
       "'🔍 LLM retrieval candidates:'"
      ]
     },
     "metadata": {},
     "output_type": "display_data"
    },
    {
     "data": {
      "text/plain": [
       "['33 Breathing problems',\n",
       " '03 Unconscious / decreased level of consciousness, breathing normally',\n",
       " '19 Chest pain / cardiac disease',\n",
       " '22 Fever / infection / sepsis',\n",
       " '30 Hyperthermia / heat stroke / heat exhaustion']"
      ]
     },
     "metadata": {},
     "output_type": "display_data"
    },
    {
     "name": "stdout",
     "output_type": "stream",
     "text": [
      "🔍 Chain of Thought (CoT):\n",
      "- Chapter 33 (breathing problems) is highly relevant due to the user's observations of uneven breathing, pauses, and labored sounds, indicating a potential respiratory issue.\n",
      "- Chapter 03 (unconscious, decreased level of consciousness) is pertinent as the patient seems unusually tired and restless, which may suggest a decreased level of consciousness or alertness.\n",
      "- Chapter 19 (chest pain, cardiac disease) is considered because the symptoms of labored breathing and pale, sweaty skin could be indicative of cardiac issues, which often present with respiratory distress.\n",
      "- Chapter 22 (fever, infection, sepsis) is relevant as the patient's pale and sweaty skin could suggest an underlying infection or sepsis, especially if they are struggling to breathe.\n",
      "- Chapter 30 (hyperthermia, heat stroke, heat exhaustion) is included because the symptoms of restlessness and sweating could also be related to heat-related illnesses, which can affect breathing and overall comfort.\n",
      "\n"
     ]
    },
    {
     "data": {
      "text/plain": [
       "'🔍 Final selected chapters:'"
      ]
     },
     "metadata": {},
     "output_type": "display_data"
    },
    {
     "data": {
      "text/plain": [
       "['33 Breathing problems',\n",
       " '30 Hyperthermia / heat stroke / heat exhaustion',\n",
       " '36 Uncertain / unidentified problem',\n",
       " '22 Fever / infection / sepsis',\n",
       " '24 Functional decline']"
      ]
     },
     "metadata": {},
     "output_type": "display_data"
    },
    {
     "name": "stdout",
     "output_type": "stream",
     "text": [
      "🔍 Final Chain of Thought (CoT): \n",
      "- Chapter 33 is highly relevant due to the observations of uneven breathing and the patient struggling to get enough air, which aligns with symptoms of breathing problems.\n",
      "- Chapter 30 is pertinent as the symptoms of weakness, tiredness, and potential heat-related issues could explain the patient's unusual tiredness and restlessness, especially if they have been exposed to extreme heat.\n",
      "- Chapter 36 is relevant because the cause of the patient's condition is unclear, and this chapter addresses symptoms like pale, clammy skin and loss of consciousness, which could relate to the patient's observations.\n",
      "- Chapter 22 is included as the patient appears unwell and sweaty, which could indicate an infection or fever, potentially explaining their symptoms.\n",
      "- Chapter 24 is relevant as it discusses general unwellness and psychosocial issues, which could contribute to the patient's inability to settle comfortably and overall fatigue.\n",
      "\n",
      "Processing entry 31/35\n"
     ]
    },
    {
     "data": {
      "text/plain": [
       "'🔍 RAG retrieval candidates:'"
      ]
     },
     "metadata": {},
     "output_type": "display_data"
    },
    {
     "data": {
      "text/plain": [
       "['33 Breathing problems',\n",
       " '36 Uncertain / unidentified problem',\n",
       " '15 Allergic reaction',\n",
       " '24 Functional decline',\n",
       " '27 Stroke symptoms']"
      ]
     },
     "metadata": {},
     "output_type": "display_data"
    },
    {
     "data": {
      "text/plain": [
       "'🔍 LLM retrieval candidates:'"
      ]
     },
     "metadata": {},
     "output_type": "display_data"
    },
    {
     "data": {
      "text/plain": [
       "['23 Poisoning - not related to alcohol or drugs',\n",
       " '03 Unconscious / decreased level of consciousness, breathing normally',\n",
       " '34 Drug abuse / intoxication / overdose',\n",
       " '32 Seizures (convulsions, fits)',\n",
       " '10 Chemicals / gasses / CBRN']"
      ]
     },
     "metadata": {},
     "output_type": "display_data"
    },
    {
     "name": "stdout",
     "output_type": "stream",
     "text": [
      "🔍 Chain of Thought (CoT):\n",
      "- Chapter 23 (poisoning - not related to alcohol or drugs) is highly relevant due to the unknown cause of the person's condition, which may be linked to something ingested that is affecting their alertness and coordination.\n",
      "- Chapter 03 (unconscious, decreased level of consciousness, breathing normally) is pertinent as the person is described as unusually drowsy and barely responsive, indicating a decreased level of consciousness.\n",
      "- Chapter 34 (drug abuse, intoxication, overdose) is relevant because the symptoms could suggest possible intoxication or overdose, especially given the shallow breathing and twitching movements.\n",
      "- Chapter 32 (seizures (convulsions, fits)) is considered due to the occasional twitching or jerking movements observed, which may indicate seizure activity or a neurological issue.\n",
      "- Chapter 10 (chemicals, gasses, cbrn) is included as a possibility since the cause is unclear, and exposure to harmful substances could lead to the symptoms described.\n",
      "\n"
     ]
    },
    {
     "data": {
      "text/plain": [
       "'🔍 Final selected chapters:'"
      ]
     },
     "metadata": {},
     "output_type": "display_data"
    },
    {
     "data": {
      "text/plain": [
       "['36 Uncertain / unidentified problem',\n",
       " '10 Chemicals / gasses / CBRN',\n",
       " '33 Breathing problems',\n",
       " '15 Allergic reaction',\n",
       " '32 Seizures (convulsions, fits)']"
      ]
     },
     "metadata": {},
     "output_type": "display_data"
    },
    {
     "name": "stdout",
     "output_type": "stream",
     "text": [
      "🔍 Final Chain of Thought (CoT): \n",
      "- Chapter 36 is highly relevant as it describes symptoms of pale, clammy skin, loss of consciousness, and decreased alertness, which aligns closely with the user's observations of drowsiness and cool skin.\n",
      "- Chapter 10 is pertinent due to the possibility of ingestion of a toxic substance, which could explain the drowsiness and twitching movements, as well as the clammy skin.\n",
      "- Chapter 33 is relevant because it addresses breathing problems, including shallow breathing and the sensation of struggling to breathe, which matches the user's description of the person's breathing status.\n",
      "- Chapter 15 is included as it covers allergic reactions that can lead to drowsiness and unresponsiveness, especially if there was a recent exposure to an allergen, which could be a potential cause of the symptoms.\n",
      "- Chapter 32 is relevant due to the mention of seizures and twitching movements, which could indicate a seizure activity that aligns with the observed jerking movements and decreased responsiveness.\n",
      "\n",
      "Processing entry 32/35\n"
     ]
    },
    {
     "data": {
      "text/plain": [
       "'🔍 RAG retrieval candidates:'"
      ]
     },
     "metadata": {},
     "output_type": "display_data"
    },
    {
     "data": {
      "text/plain": [
       "['36 Uncertain / unidentified problem',\n",
       " '24 Functional decline',\n",
       " '33 Breathing problems',\n",
       " '27 Stroke symptoms',\n",
       " '05 Mental health issue']"
      ]
     },
     "metadata": {},
     "output_type": "display_data"
    },
    {
     "data": {
      "text/plain": [
       "'🔍 LLM retrieval candidates:'"
      ]
     },
     "metadata": {},
     "output_type": "display_data"
    },
    {
     "data": {
      "text/plain": [
       "['35 Pain in the abdomen / back / extremities',\n",
       " '22 Fever / infection / sepsis',\n",
       " '33 Breathing problems',\n",
       " '04 Choking / foreign object',\n",
       " '06 Mental health crisis - suicide risk']"
      ]
     },
     "metadata": {},
     "output_type": "display_data"
    },
    {
     "name": "stdout",
     "output_type": "stream",
     "text": [
      "🔍 Chain of Thought (CoT):\n",
      "- Chapter 35 (pain in the abdomen, back, extremities) is relevant because the person is clutching their side or lower back, indicating possible pain in those areas.\n",
      "- Chapter 22 (fever, infection, sepsis) is pertinent as the person's pale and damp face could suggest a systemic issue like infection or sepsis, especially given their overall drained appearance.\n",
      "- Chapter 33 (breathing problems) is significant due to the description of uneven and shallow breathing, which could indicate respiratory distress or another underlying issue.\n",
      "- Chapter 04 (choking, foreign object) is included because the cause is unclear, and while there is no direct indication of choking, the restlessness and discomfort could suggest a possible obstruction or irritation.\n",
      "- Chapter 06 (mental health crisis - suicide risk) is considered due to the person's restlessness and feeling “off,” which could indicate a mental health issue, especially in the context of their drained state and slow responses.\n",
      "\n"
     ]
    },
    {
     "data": {
      "text/plain": [
       "'🔍 Final selected chapters:'"
      ]
     },
     "metadata": {},
     "output_type": "display_data"
    },
    {
     "data": {
      "text/plain": [
       "['24 Functional decline',\n",
       " '36 Uncertain / unidentified problem',\n",
       " '22 Fever / infection / sepsis',\n",
       " '33 Breathing problems',\n",
       " '05 Mental health issue']"
      ]
     },
     "metadata": {},
     "output_type": "display_data"
    },
    {
     "name": "stdout",
     "output_type": "stream",
     "text": [
      "🔍 Final Chain of Thought (CoT): \n",
      "- Chapter 24 (functional decline) is relevant due to the symptoms of general unwellness, pale clammy skin, and the person's inability to perform normal activities, which aligns with the observations of restlessness and discomfort.\n",
      "- Chapter 36 (uncertain, unidentified problem) fits the query as the cause is unclear, and the symptoms include pale, clammy skin and loss of focus, which are present in the user's observations.\n",
      "- Chapter 22 (fever, infection, sepsis) is pertinent because the person appears very unwell, with symptoms like sweating and feeling 'off,' which could indicate an underlying infection or sepsis.\n",
      "- Chapter 33 (breathing problems) is relevant due to the uneven and shallow breathing described, which suggests a potential respiratory issue that could be contributing to the person's discomfort and restlessness.\n",
      "- Chapter 05 (mental health issue) is included as the person is restless and seems drained, which could indicate a mental health concern, especially given the change in focus and overall state of mind.\n",
      "\n",
      "Processing entry 33/35\n"
     ]
    },
    {
     "data": {
      "text/plain": [
       "'🔍 RAG retrieval candidates:'"
      ]
     },
     "metadata": {},
     "output_type": "display_data"
    },
    {
     "data": {
      "text/plain": [
       "['36 Uncertain / unidentified problem',\n",
       " '33 Breathing problems',\n",
       " '24 Functional decline',\n",
       " '27 Stroke symptoms',\n",
       " '29 Skin / rash']"
      ]
     },
     "metadata": {},
     "output_type": "display_data"
    },
    {
     "data": {
      "text/plain": [
       "'🔍 LLM retrieval candidates:'"
      ]
     },
     "metadata": {},
     "output_type": "display_data"
    },
    {
     "data": {
      "text/plain": [
       "['35 Pain in the abdomen / back / extremities',\n",
       " '22 Fever / infection / sepsis',\n",
       " '19 Chest pain / cardiac disease',\n",
       " '34 Drug abuse / intoxication / overdose',\n",
       " '36 Uncertain / unidentified problem']"
      ]
     },
     "metadata": {},
     "output_type": "display_data"
    },
    {
     "name": "stdout",
     "output_type": "stream",
     "text": [
      "🔍 Chain of Thought (CoT):\n",
      "- Chapter 35 (pain in the abdomen, back, extremities) is highly relevant due to the patient's tense expression and clutching of the lower torso, indicating possible abdominal pain or discomfort.\n",
      "- Chapter 22 (fever, infection, sepsis) is pertinent as the observations of paleness and sweating could suggest an underlying infection or systemic issue, especially with the unknown cause of the condition.\n",
      "- Chapter 19 (chest pain, cardiac disease) is considered because the uneven breathing and discomfort could potentially relate to cardiac issues, although this is less certain given the abdominal focus.\n",
      "- Chapter 34 (drug abuse, intoxication, overdose) is relevant as the unusual quietness and restlessness could indicate a reaction to substances, especially if the cause is unclear.\n",
      "- Chapter 36 (uncertain, unidentified problem) is included due to the ambiguity of the cause and the overall unclear nature of the symptoms, making it a catch-all for undiagnosed conditions.\n",
      "\n"
     ]
    },
    {
     "data": {
      "text/plain": [
       "'🔍 Final selected chapters:'"
      ]
     },
     "metadata": {},
     "output_type": "display_data"
    },
    {
     "data": {
      "text/plain": [
       "['36 Uncertain / unidentified problem',\n",
       " '35 Pain in the abdomen / back / extremities',\n",
       " '33 Breathing problems',\n",
       " '24 Functional decline',\n",
       " '22 Fever / infection / sepsis']"
      ]
     },
     "metadata": {},
     "output_type": "display_data"
    },
    {
     "name": "stdout",
     "output_type": "stream",
     "text": [
      "🔍 Final Chain of Thought (CoT): \n",
      "- Chapter 36 (uncertain, unidentified problem) is highly relevant due to the unclear cause of the person's condition, along with symptoms like pale, clammy skin and decreased alertness, which align with the chapter's focus on sudden onset and psychosocial issues.\n",
      "- Chapter 35 (pain in the abdomen, back, extremities) is pertinent because the individual is clutching their lower torso, indicating possible abdominal pain, and the tense expression suggests discomfort, which matches the chapter's symptoms of moderate to severe pain.\n",
      "- Chapter 33 (breathing problems) is relevant as the observations mention uneven breathing and signs of distress, which could indicate a respiratory issue, aligning with the chapter's focus on significant difficulty breathing and anxiety.\n",
      "- Chapter 24 (functional decline) is applicable since the person appears unusually quiet and restless, which could indicate a decline in their functional status, along with symptoms of general unwellness and altered consciousness.\n",
      "- Chapter 22 (fever, infection, sepsis) is included because the person appears sweaty and warm, which could suggest an infection or fever, and the overall unwellness aligns with the chapter's symptoms of being very unwell and showing signs of infection.\n",
      "\n",
      "Processing entry 34/35\n"
     ]
    },
    {
     "data": {
      "text/plain": [
       "'🔍 RAG retrieval candidates:'"
      ]
     },
     "metadata": {},
     "output_type": "display_data"
    },
    {
     "data": {
      "text/plain": [
       "['33 Breathing problems',\n",
       " '36 Uncertain / unidentified problem',\n",
       " '04 Choking / foreign object',\n",
       " '38 Ear, nose and throat',\n",
       " '27 Stroke symptoms']"
      ]
     },
     "metadata": {},
     "output_type": "display_data"
    },
    {
     "data": {
      "text/plain": [
       "'🔍 LLM retrieval candidates:'"
      ]
     },
     "metadata": {},
     "output_type": "display_data"
    },
    {
     "data": {
      "text/plain": [
       "['04 Choking / foreign object',\n",
       " '33 Breathing problems',\n",
       " '15 Allergic reaction',\n",
       " '19 Chest pain / cardiac disease',\n",
       " '10 Chemicals / gasses / CBRN']"
      ]
     },
     "metadata": {},
     "output_type": "display_data"
    },
    {
     "name": "stdout",
     "output_type": "stream",
     "text": [
      "🔍 Chain of Thought (CoT):\n",
      "- Chapter 04 (choking, foreign object): The observations suggest a possible obstruction in the airway, indicated by the person clutching their neck and the rasping noise when trying to speak or swallow, which aligns with choking scenarios.\n",
      "- Chapter 33 (breathing problems): The symptoms of restlessness, difficulty in breathing, and the faint rasping noise indicate potential respiratory distress, making this chapter highly relevant.\n",
      "- Chapter 15 (allergic reaction): Swelling in the throat area could be a sign of an allergic reaction, especially if the cause is unclear, which could lead to airway obstruction.\n",
      "- Chapter 19 (chest pain, cardiac disease): While not directly indicated, the combination of symptoms could suggest a cardiac issue that may present with respiratory distress, making this chapter relevant for consideration.\n",
      "- Chapter 10 (chemicals, gasses, cbrn): If the cause is environmental, exposure to harmful chemicals or gases could lead to similar symptoms, thus making this chapter relevant as well.\n",
      "\n"
     ]
    },
    {
     "data": {
      "text/plain": [
       "'🔍 Final selected chapters:'"
      ]
     },
     "metadata": {},
     "output_type": "display_data"
    },
    {
     "data": {
      "text/plain": [
       "['33 Breathing problems',\n",
       " '04 Choking / foreign object',\n",
       " '15 Allergic reaction',\n",
       " '36 Uncertain / unidentified problem',\n",
       " '38 Ear, nose and throat']"
      ]
     },
     "metadata": {},
     "output_type": "display_data"
    },
    {
     "name": "stdout",
     "output_type": "stream",
     "text": [
      "🔍 Final Chain of Thought (CoT): \n",
      "- Chapter 33 (breathing problems) is highly relevant due to the symptoms of significant difficulty breathing, pale skin, and the person's restless and uneasy condition, which aligns with the observations of strained breathing and throat clearing.\n",
      "- Chapter 04 (choking, foreign object) is pertinent as the cause is unclear but suggests a possible airway blockage, which matches the observations of the person clutching their neck and the faint rasping noise when trying to speak or swallow.\n",
      "- Chapter 15 (allergic reaction) is considered because the symptoms of difficulty swallowing and pale skin could indicate an allergic reaction, especially if there is swelling in the throat area, although this is less likely than choking.\n",
      "- Chapter 36 (uncertain, unidentified problem) is relevant due to the vague nature of the cause and the symptoms of pale skin and difficulty communicating, which could indicate a serious underlying issue.\n",
      "- Chapter 38 (ear, nose and throat) is included as the symptoms of throat discomfort and the possibility of a foreign object or swelling in the throat area align with the observations of the person being unwell and having throat-related issues.\n",
      "\n",
      "Processing entry 35/35\n"
     ]
    },
    {
     "data": {
      "text/plain": [
       "'🔍 RAG retrieval candidates:'"
      ]
     },
     "metadata": {},
     "output_type": "display_data"
    },
    {
     "data": {
      "text/plain": [
       "['39 Eye',\n",
       " '36 Uncertain / unidentified problem',\n",
       " '29 Skin / rash',\n",
       " '28 Headache',\n",
       " '27 Stroke symptoms']"
      ]
     },
     "metadata": {},
     "output_type": "display_data"
    },
    {
     "data": {
      "text/plain": [
       "'🔍 LLM retrieval candidates:'"
      ]
     },
     "metadata": {},
     "output_type": "display_data"
    },
    {
     "data": {
      "text/plain": [
       "['05 Mental health issue',\n",
       " '38 Ear, nose and throat',\n",
       " '36 Uncertain / unidentified problem',\n",
       " '19 Chest pain / cardiac disease',\n",
       " '32 Seizures (convulsions, fits)']"
      ]
     },
     "metadata": {},
     "output_type": "display_data"
    },
    {
     "name": "stdout",
     "output_type": "stream",
     "text": [
      "🔍 Chain of Thought (CoT):\n",
      "- Chapter 05 (mental health issue): The person's confusion and tiredness could indicate a mental health issue, especially given the context of their altered state of consciousness and the unclear cause of their discomfort.\n",
      "- Chapter 38 (ear, nose and throat): The symptoms of slight discoloration near the eyes, squinting, and discomfort on one side could suggest an issue related to the ear, nose, or throat, possibly indicating a sinus or other ENT-related problem.\n",
      "- Chapter 36 (uncertain, unidentified problem): Since the cause of the discomfort is unclear, this chapter is relevant as it addresses situations where the problem is not easily identifiable, which aligns with the user's description.\n",
      "- Chapter 19 (chest pain, cardiac disease): Although not directly mentioned, the overall symptoms of confusion and tiredness could potentially relate to cardiac issues, especially if there is an underlying condition that has not been identified.\n",
      "- Chapter 32 (seizures - convulsions, fits): The confusion and altered responsiveness could also be indicative of a seizure or postictal state, making this chapter relevant given the symptoms described.\n",
      "\n"
     ]
    },
    {
     "data": {
      "text/plain": [
       "'🔍 Final selected chapters:'"
      ]
     },
     "metadata": {},
     "output_type": "display_data"
    },
    {
     "data": {
      "text/plain": [
       "['39 Eye',\n",
       " '28 Headache',\n",
       " '36 Uncertain / unidentified problem',\n",
       " '32 Seizures (convulsions, fits)',\n",
       " '05 Mental health issue']"
      ]
     },
     "metadata": {},
     "output_type": "display_data"
    },
    {
     "name": "stdout",
     "output_type": "stream",
     "text": [
      "🔍 Final Chain of Thought (CoT): \n",
      "- Chapter 39 (eye): The symptoms of slight discoloration near the eyes, squinting, and avoiding bright light suggest a potential eye issue, such as irritation or injury, which aligns with the chapter's focus on eye-related problems.\n",
      "- Chapter 28 (headache): The mention of a sudden jolt and mild nausea could indicate a headache or concussion, especially given the confusion and tiredness, which are relevant to this chapter's symptoms.\n",
      "- Chapter 36 (uncertain, unidentified problem): The overall confusion, tiredness, and unclear cause of discomfort fit well with this chapter, which addresses situations where the problem is not immediately identifiable.\n",
      "- Chapter 32 (seizures): Although not explicitly mentioned, the confusion and unresponsiveness could suggest a seizure or postictal state, making this chapter relevant given the symptoms presented.\n",
      "- Chapter 05 (mental health issue): While the primary symptoms do not directly indicate a mental health issue, the confusion and behavioral changes could be linked to underlying mental health concerns, making this chapter a consideration.\n",
      "\n",
      "Inference results saved to ./Data/Evaluation/COMBINED_RAG_vague.json\n"
     ]
    }
   ],
   "source": [
    "def extract_first_number(text):\n",
    "\tmatch = re.search(r'\\b\\d+\\b', text)\n",
    "\tif match:\n",
    "\t\treturn match.group().strip()\n",
    "\treturn \"\"\n",
    "\n",
    "input_texts = []\n",
    "references = []\n",
    "combined_predictions = []\n",
    "for entry in vague_dataset:\n",
    "\tinput_texts.append(entry[\"input_text\"].strip())\n",
    "\treferences.append(entry[\"label\"])\n",
    "\n",
    "\n",
    "k = 5\n",
    "input_file = \"Data/Evaluation/RAG_vague.json\"\n",
    "with open(input_file, \"r\") as f:\n",
    "\tprevious_data = json.load(f)\n",
    "\n",
    "\n",
    "combined_candidate_predictions = []\n",
    "\n",
    "for i, (input_text, label) in enumerate(zip(input_texts, references)):\n",
    "\tprint(f\"Processing entry {i+1}/{len(input_texts)}\")\n",
    "\tchapters = retrieve_candidate_chapters_prompt(input_text, debug=True)\n",
    "\tcandidates = [int(extract_first_number(chapter)) for chapter in chapters]\n",
    "\n",
    "\tcombined_candidate_predictions.append({\n",
    "\t\t\"normal\":candidates[0],\n",
    "\t\t\"best\": label if label in candidates else candidates[0]\n",
    "\t})\n",
    "\n",
    "rag_predictions = {\n",
    "\t\"combined_candidate_predictions\": combined_candidate_predictions\n",
    "}\n",
    "\n",
    "for key in previous_data:\n",
    "\tif key not in rag_predictions:\n",
    "\t\trag_predictions[key] = previous_data[key]\n",
    "\n",
    "\n",
    "# Save the data to a JSON file\n",
    "output_file =  \"./Data/Evaluation/COMBINED_RAG_vague.json\"\n",
    "with open(output_file, \"w\") as f:\n",
    "    json.dump(rag_predictions, f, ensure_ascii=False, indent=2)\n",
    "\n",
    "print(f\"Inference results saved to {output_file}\")"
   ]
  },
  {
   "cell_type": "markdown",
   "id": "e61566be",
   "metadata": {},
   "source": [
    "### Using the retrieval\n",
    "- Keep in mind debug is used to see CoT and results"
   ]
  },
  {
   "cell_type": "code",
   "execution_count": null,
   "id": "ab1021a0",
   "metadata": {},
   "outputs": [
    {
     "data": {
      "text/plain": [
       "'🔍 RAG retrieval candidates:'"
      ]
     },
     "metadata": {},
     "output_type": "display_data"
    },
    {
     "data": {
      "text/plain": [
       "['33 Breathing problems',\n",
       " '36 Uncertain / unidentified problem',\n",
       " '24 Functional decline',\n",
       " '16 Child / infant - illness',\n",
       " '05 Mental health issue']"
      ]
     },
     "metadata": {},
     "output_type": "display_data"
    },
    {
     "data": {
      "text/plain": [
       "'🔍 LLM retrieval candidates:'"
      ]
     },
     "metadata": {},
     "output_type": "display_data"
    },
    {
     "data": {
      "text/plain": [
       "['03 Unconscious / decreased level of consciousness, breathing normally',\n",
       " '33 Breathing problems',\n",
       " '22 Fever / infection / sepsis',\n",
       " '34 Drug abuse / intoxication / overdose',\n",
       " '05 Mental health issue']"
      ]
     },
     "metadata": {},
     "output_type": "display_data"
    },
    {
     "name": "stdout",
     "output_type": "stream",
     "text": [
      "🔍 Chain of Thought (CoT):\n",
      "- Chapter 03 is highly relevant as it directly addresses the patient's unconscious state and decreased level of consciousness, which aligns with the query's condition of being unconscious and not breathing normally.\n",
      "- Chapter 33 is pertinent because it covers breathing problems, which is a critical aspect of the patient's condition, especially given the difficulty in breathing mentioned in the query.\n",
      "- Chapter 22 is relevant due to the observations of the patient feeling ill for a couple of days, which could indicate an underlying infection or sepsis, especially in the context of the patient's current state.\n",
      "- Chapter 34 is included because it deals with drug abuse, intoxication, or overdose, which could be a potential cause of the patient's symptoms, especially since the cause is unknown.\n",
      "- Chapter 05 is relevant as it addresses mental health issues, which could be a contributing factor to the patient's overall condition, particularly if the illness has psychological components.\n",
      "\n"
     ]
    },
    {
     "data": {
      "text/plain": [
       "'🔍 Final selected chapters:'"
      ]
     },
     "metadata": {},
     "output_type": "display_data"
    },
    {
     "data": {
      "text/plain": [
       "['33 Breathing problems',\n",
       " '03 Unconscious / decreased level of consciousness, breathing normally',\n",
       " '34 Drug abuse / intoxication / overdose',\n",
       " '36 Uncertain / unidentified problem',\n",
       " '22 Fever / infection / sepsis']"
      ]
     },
     "metadata": {},
     "output_type": "display_data"
    },
    {
     "name": "stdout",
     "output_type": "stream",
     "text": [
      "🔍 Final Chain of Thought (CoT): \n",
      "- Chapter 33 is highly relevant because it specifically addresses breathing problems, which aligns with the user's condition of not breathing normally and difficulty breathing.\n",
      "- Chapter 03 is also pertinent as it discusses unconsciousness and decreased levels of consciousness, which is a key aspect of the user's condition.\n",
      "- Chapter 34 is relevant due to its focus on drug abuse and intoxication, which can lead to altered consciousness and breathing difficulties, especially given the unknown cause of the patient's condition.\n",
      "- Chapter 36 is included because it deals with uncertain and unidentified problems, which fits the user's description of an unknown medical condition and the patient's unwell state.\n",
      "- Chapter 22 is relevant as it covers symptoms of fever and infection, which could be underlying causes of the patient's complaints of feeling ill for a couple of days, potentially leading to the observed symptoms.\n",
      "\n",
      "['33 Breathing problems', '03 Unconscious / decreased level of consciousness, breathing normally', '34 Drug abuse / intoxication / overdose', '36 Uncertain / unidentified problem', '22 Fever / infection / sepsis']\n"
     ]
    }
   ],
   "source": [
    "query =  {\n",
    "\t\"condition\": \"Unconscious, not breathing normally, difficulty breathing\",\n",
    "\t\"observations\": \"Complaining about feeling ill for a couple of days\",\n",
    "\t\"cause\": \"Unknown medical condition\",\n",
    "\t\"callers_actions\": \"Helping patient\"\n",
    "}\n",
    "query = json.dumps(query, indent=2, ensure_ascii=False)\n",
    "chapter_ids = retrieve_candidate_chapters_prompt(query, debug=True)\n",
    "print(chapter_ids)\n",
    "# print(f\"🧠 Chain Of Thought: {CoT}\")\n",
    "# display(\"🔐 Multi-Rank retrieval:\",chapters)"
   ]
  }
 ],
 "metadata": {
  "kernelspec": {
   "display_name": ".venv",
   "language": "python",
   "name": "python3"
  },
  "language_info": {
   "codemirror_mode": {
    "name": "ipython",
    "version": 3
   },
   "file_extension": ".py",
   "mimetype": "text/x-python",
   "name": "python",
   "nbconvert_exporter": "python",
   "pygments_lexer": "ipython3",
   "version": "3.13.2"
  }
 },
 "nbformat": 4,
 "nbformat_minor": 5
}
